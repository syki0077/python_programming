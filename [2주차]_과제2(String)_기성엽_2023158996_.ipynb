{
  "nbformat": 4,
  "nbformat_minor": 0,
  "metadata": {
    "colab": {
      "provenance": []
    },
    "kernelspec": {
      "name": "python3",
      "display_name": "Python 3"
    },
    "language_info": {
      "name": "python"
    }
  },
  "cells": [
    {
      "cell_type": "code",
      "execution_count": null,
      "metadata": {
        "id": "Pba-WufdXNXD"
      },
      "outputs": [],
      "source": [
        "# 2023158996 기성엽 과제"
      ]
    },
    {
      "cell_type": "markdown",
      "source": [
        "Exercise Strings 1"
      ],
      "metadata": {
        "id": "7QWTBRWLEWH8"
      }
    },
    {
      "cell_type": "markdown",
      "source": [
        "What is the value of the variable A after the following code is executed?"
      ],
      "metadata": {
        "id": "30BrEddxYSS1"
      }
    },
    {
      "cell_type": "code",
      "source": [
        "A = \"1\"\n",
        "A"
      ],
      "metadata": {
        "id": "QbaD89c2GUMQ",
        "colab": {
          "base_uri": "https://localhost:8080/",
          "height": 35
        },
        "outputId": "d2c69310-da17-49cd-bc19-44f9a699e5a7"
      },
      "execution_count": 6,
      "outputs": [
        {
          "output_type": "execute_result",
          "data": {
            "text/plain": [
              "'1'"
            ],
            "application/vnd.google.colaboratory.intrinsic+json": {
              "type": "string"
            }
          },
          "metadata": {},
          "execution_count": 6
        }
      ]
    },
    {
      "cell_type": "markdown",
      "source": [
        "What is the value of the variable B after the following code is executed?"
      ],
      "metadata": {
        "id": "QxZijA7pYUb5"
      }
    },
    {
      "cell_type": "code",
      "source": [
        "B = \"2\"\n",
        "B"
      ],
      "metadata": {
        "id": "cF-eiDzgEjax",
        "colab": {
          "base_uri": "https://localhost:8080/",
          "height": 35
        },
        "outputId": "93ebedd9-6aae-4643-e82e-d0ec7413c989"
      },
      "execution_count": 7,
      "outputs": [
        {
          "output_type": "execute_result",
          "data": {
            "text/plain": [
              "'2'"
            ],
            "application/vnd.google.colaboratory.intrinsic+json": {
              "type": "string"
            }
          },
          "metadata": {},
          "execution_count": 7
        }
      ]
    },
    {
      "cell_type": "markdown",
      "source": [
        "What is the value of the variable C after the following code is executed?"
      ],
      "metadata": {
        "id": "HXL5h_y5YXIS"
      }
    },
    {
      "cell_type": "code",
      "source": [
        "C = A + B\n",
        "C"
      ],
      "metadata": {
        "id": "SgfDRzqHEnuQ",
        "colab": {
          "base_uri": "https://localhost:8080/",
          "height": 35
        },
        "outputId": "172b2fcd-8a47-44e3-cfc0-2fbaf27bd090"
      },
      "execution_count": 4,
      "outputs": [
        {
          "output_type": "execute_result",
          "data": {
            "text/plain": [
              "'12'"
            ],
            "application/vnd.google.colaboratory.intrinsic+json": {
              "type": "string"
            }
          },
          "metadata": {},
          "execution_count": 4
        }
      ]
    },
    {
      "cell_type": "markdown",
      "source": [
        "Consider the variable D use slicing to print out the first three elements:"
      ],
      "metadata": {
        "id": "uFUTPNRCYdYB"
      }
    },
    {
      "cell_type": "code",
      "source": [
        "D = \"ABCDEFG\"\n",
        "print(D[0:3])"
      ],
      "metadata": {
        "colab": {
          "base_uri": "https://localhost:8080/"
        },
        "id": "NQSyB-j7Ex1u",
        "outputId": "cf9ebd63-e91f-4865-f3f3-319d032a576d"
      },
      "execution_count": 9,
      "outputs": [
        {
          "output_type": "stream",
          "name": "stdout",
          "text": [
            "ABC\n"
          ]
        }
      ]
    },
    {
      "cell_type": "markdown",
      "source": [
        "Use a stride value of 2 to print out every second character of the string E:"
      ],
      "metadata": {
        "id": "e7JXPOndY__X"
      }
    },
    {
      "cell_type": "code",
      "source": [
        "E = 'clocrkr1e1c1t'\n",
        "print(E[::2])"
      ],
      "metadata": {
        "colab": {
          "base_uri": "https://localhost:8080/"
        },
        "id": "Hd0yR-NVE9Av",
        "outputId": "9896cfbe-c568-4098-f27e-ef9e96a7e252"
      },
      "execution_count": 10,
      "outputs": [
        {
          "output_type": "stream",
          "name": "stdout",
          "text": [
            "correct\n"
          ]
        }
      ]
    },
    {
      "cell_type": "markdown",
      "source": [
        "Print out a backslash:"
      ],
      "metadata": {
        "id": "m1ipzgA_ZErQ"
      }
    },
    {
      "cell_type": "code",
      "source": [
        "print(\"\\\\\")"
      ],
      "metadata": {
        "colab": {
          "base_uri": "https://localhost:8080/"
        },
        "id": "3y5qdcwpFdvf",
        "outputId": "122301c3-78e2-4855-c5c5-3b668a9194b0"
      },
      "execution_count": 11,
      "outputs": [
        {
          "output_type": "stream",
          "name": "stdout",
          "text": [
            "\\\n"
          ]
        }
      ]
    },
    {
      "cell_type": "markdown",
      "source": [
        "Convert the variable F to uppercase:"
      ],
      "metadata": {
        "id": "_JqE1KVGZMeI"
      }
    },
    {
      "cell_type": "code",
      "source": [
        "F = \"You are wrong\"\n",
        "print(F.upper())"
      ],
      "metadata": {
        "colab": {
          "base_uri": "https://localhost:8080/"
        },
        "id": "KtLZHU1wFtuV",
        "outputId": "0a0ab4ea-94e1-4493-c18f-8f3416d13cd6"
      },
      "execution_count": 12,
      "outputs": [
        {
          "output_type": "stream",
          "name": "stdout",
          "text": [
            "YOU ARE WRONG\n"
          ]
        }
      ]
    },
    {
      "cell_type": "markdown",
      "source": [
        "Consider the variable G, and find the first index of the sub-string snow:"
      ],
      "metadata": {
        "id": "5g_rPDAuZOhv"
      }
    },
    {
      "cell_type": "code",
      "source": [
        "G = \"Mary had a little lamb Little lamb, little lamb Mary had a little lamb \\\n",
        "Its fleece was white as snow And everywhere that Mary went Mary went, Mary went \\\n",
        "Everywhere that Mary went The lamb was sure to go\"\n",
        "G.find(\"snow\")"
      ],
      "metadata": {
        "colab": {
          "base_uri": "https://localhost:8080/"
        },
        "id": "thGLsgQWZacS",
        "outputId": "f7b3b23d-b3bd-4e67-eb79-ef12709d691e"
      },
      "execution_count": 13,
      "outputs": [
        {
          "output_type": "execute_result",
          "data": {
            "text/plain": [
              "95"
            ]
          },
          "metadata": {},
          "execution_count": 13
        }
      ]
    },
    {
      "cell_type": "markdown",
      "source": [
        "Double-click here for the solution."
      ],
      "metadata": {
        "id": "LrnhVb65ZrI6"
      }
    },
    {
      "cell_type": "code",
      "source": [
        "G = \"Mary is beautiful\"\n",
        "H = G.replace('Mary', 'Bob')\n",
        "H"
      ],
      "metadata": {
        "colab": {
          "base_uri": "https://localhost:8080/",
          "height": 35
        },
        "id": "lUT9JxkmF9BM",
        "outputId": "29bee7a6-1fd8-4cb2-a488-0d5e4a2180b7"
      },
      "execution_count": 14,
      "outputs": [
        {
          "output_type": "execute_result",
          "data": {
            "text/plain": [
              "'Bob is beautiful'"
            ],
            "application/vnd.google.colaboratory.intrinsic+json": {
              "type": "string"
            }
          },
          "metadata": {},
          "execution_count": 14
        }
      ]
    }
  ]
}