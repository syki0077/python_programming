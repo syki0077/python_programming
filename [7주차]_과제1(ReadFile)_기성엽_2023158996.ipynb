{
  "nbformat": 4,
  "nbformat_minor": 0,
  "metadata": {
    "kernelspec": {
      "display_name": "Python 3",
      "language": "python",
      "name": "python3"
    },
    "language_info": {
      "codemirror_mode": {
        "name": "ipython",
        "version": 3
      },
      "file_extension": ".py",
      "mimetype": "text/x-python",
      "name": "python",
      "nbconvert_exporter": "python",
      "pygments_lexer": "ipython3",
      "version": "3.6.6"
    },
    "colab": {
      "provenance": []
    }
  },
  "cells": [
    {
      "cell_type": "code",
      "source": [
        "# 2023158996 기성엽 과제"
      ],
      "metadata": {
        "id": "ITXHrzlyoUUs"
      },
      "execution_count": null,
      "outputs": []
    },
    {
      "cell_type": "markdown",
      "metadata": {
        "id": "F9LAKEWcYI0G"
      },
      "source": [
        "<h1>Reading Files Python</h1>"
      ]
    },
    {
      "cell_type": "markdown",
      "metadata": {
        "id": "p7BmMI9fYI0H"
      },
      "source": [
        "<p><strong>Welcome!</strong> This notebook will teach you about reading the text file in the Python Programming Language. By the end of this lab, you'll know how to read text files.</p>"
      ]
    },
    {
      "cell_type": "markdown",
      "metadata": {
        "id": "xKoDVcw9YI0I"
      },
      "source": [
        "<h2 id=\"download\">Download Data</h2>"
      ]
    },
    {
      "cell_type": "code",
      "source": [
        "from google.colab import drive\n",
        "drive.mount('/content/drive')"
      ],
      "metadata": {
        "id": "HZac6QUPKxee",
        "outputId": "6a5c7a18-cbba-46fc-f528-ae91f722a0e2",
        "colab": {
          "base_uri": "https://localhost:8080/"
        }
      },
      "execution_count": 1,
      "outputs": [
        {
          "output_type": "stream",
          "name": "stdout",
          "text": [
            "Mounted at /content/drive\n"
          ]
        }
      ]
    },
    {
      "cell_type": "code",
      "metadata": {
        "id": "-m4pzMiqYNvn",
        "colab": {
          "base_uri": "https://localhost:8080/"
        },
        "outputId": "69ad3516-72b9-4d38-ccb3-0f9da5e01657"
      },
      "source": [
        "#or use GDrive mounting method #나의 구글드라이브에 접근할 수 있는 권한을 부여하는 것 #기본 정지 작업 왜? 내가 가지고 있는 구글드라이브에서 파일 입출력을 하기 위해서\n",
        "from google.colab import drive\n",
        "drive.mount('/content/gdrive')"
      ],
      "execution_count": 6,
      "outputs": [
        {
          "output_type": "stream",
          "name": "stdout",
          "text": [
            "Drive already mounted at /content/gdrive; to attempt to forcibly remount, call drive.mount(\"/content/gdrive\", force_remount=True).\n"
          ]
        }
      ]
    },
    {
      "cell_type": "markdown",
      "metadata": {
        "id": "GEfUdrpsYI0M"
      },
      "source": [
        "<hr>"
      ]
    },
    {
      "cell_type": "markdown",
      "metadata": {
        "id": "PmiZ2iB3YI0N"
      },
      "source": [
        "<h2 id=\"read\">Reading Text Files</h2>"
      ]
    },
    {
      "cell_type": "markdown",
      "metadata": {
        "id": "p0d4rHn7YI0N"
      },
      "source": [
        "One way to read or write a file in Python is to use the built-in <code>open</code> function. The <code>open</code> function provides a <b>File object</b> that contains the methods and attributes you need in order to read, save, and manipulate the file. In this notebook, we will only cover <b>.txt</b> files. The first parameter you need is the file path and the file name. An example is shown as follow:"
      ]
    },
    {
      "cell_type": "markdown",
      "metadata": {
        "id": "JSQ4KVjRYI0O"
      },
      "source": [
        "<img src=\"https://s3-api.us-geo.objectstorage.softlayer.net/cf-courses-data/CognitiveClass/PY0101EN/Chapter%204/Images/ReadOpen.png\" width=\"500\" />"
      ]
    },
    {
      "cell_type": "markdown",
      "metadata": {
        "id": "BafZWbDFYI0P"
      },
      "source": [
        " The mode argument is optional and the default value is <b>r</b>. In this notebook we only cover two modes:\n",
        "<ul>\n",
        "    <li><b>r</b> Read mode for reading files </li>\n",
        "    <li><b>w</b> Write mode for writing files</li>\n",
        "</ul>"
      ]
    },
    {
      "cell_type": "markdown",
      "metadata": {
        "id": "JmkUE9TMYI0P"
      },
      "source": [
        "For the next example, we will use the text file <b>Example1.txt</b>. The file is shown as follow:"
      ]
    },
    {
      "cell_type": "markdown",
      "metadata": {
        "id": "mVE71z0gYI0Q"
      },
      "source": [
        "<img src=\"https://s3-api.us-geo.objectstorage.softlayer.net/cf-courses-data/CognitiveClass/PY0101EN/Chapter%204/Images/ReadFile.png\" width=\"200\" />"
      ]
    },
    {
      "cell_type": "markdown",
      "metadata": {
        "id": "iOB-Ok1UYI0Q"
      },
      "source": [
        " We read the file:"
      ]
    },
    {
      "cell_type": "code",
      "metadata": {
        "id": "W7vJLvx4YI0R"
      },
      "source": [
        "# Read the Example1.txt\n",
        "\n",
        "example1 = \"/content/gdrive/My Drive/Colab Notebooks/example1.txt\"\n",
        "file1 = open(example1, \"r\") #\"r\"는 example1 객체를 읽을 수 있는 상태로 만들자."
      ],
      "execution_count": 10,
      "outputs": []
    },
    {
      "cell_type": "markdown",
      "metadata": {
        "id": "4-8J88zrYI0T"
      },
      "source": [
        " We can view the attributes of the file."
      ]
    },
    {
      "cell_type": "markdown",
      "metadata": {
        "id": "ETf5o_TUYI0U"
      },
      "source": [
        "The name of the file:"
      ]
    },
    {
      "cell_type": "code",
      "metadata": {
        "id": "bBsi2y2YYI0U",
        "colab": {
          "base_uri": "https://localhost:8080/",
          "height": 35
        },
        "outputId": "aaf5fea9-ebd5-4c5a-9ecc-a5be7da4dd28"
      },
      "source": [
        "# Print the path of file\n",
        "\n",
        "file1.name"
      ],
      "execution_count": 11,
      "outputs": [
        {
          "output_type": "execute_result",
          "data": {
            "text/plain": [
              "'/content/gdrive/My Drive/Colab Notebooks/example1.txt'"
            ],
            "application/vnd.google.colaboratory.intrinsic+json": {
              "type": "string"
            }
          },
          "metadata": {},
          "execution_count": 11
        }
      ]
    },
    {
      "cell_type": "markdown",
      "metadata": {
        "id": "doJ6gXKtYI0X"
      },
      "source": [
        " The mode the file object is in:"
      ]
    },
    {
      "cell_type": "code",
      "metadata": {
        "id": "e1aO2Qp-YI0X",
        "colab": {
          "base_uri": "https://localhost:8080/",
          "height": 35
        },
        "outputId": "5978308e-189d-4231-dfb9-bb6ce30b2614"
      },
      "source": [
        "# Print the mode of file, either 'r' or 'w'\n",
        "\n",
        "file1.mode"
      ],
      "execution_count": 12,
      "outputs": [
        {
          "output_type": "execute_result",
          "data": {
            "text/plain": [
              "'r'"
            ],
            "application/vnd.google.colaboratory.intrinsic+json": {
              "type": "string"
            }
          },
          "metadata": {},
          "execution_count": 12
        }
      ]
    },
    {
      "cell_type": "markdown",
      "metadata": {
        "id": "ZrkUUyKPYI0a"
      },
      "source": [
        "We can read the file and assign it to a variable :"
      ]
    },
    {
      "cell_type": "code",
      "metadata": {
        "id": "S_DjlFFcYI0b",
        "colab": {
          "base_uri": "https://localhost:8080/",
          "height": 35
        },
        "outputId": "2c2867f0-cb42-4267-d4df-de828fc73902"
      },
      "source": [
        "# Read the file\n",
        "\n",
        "FileContent = file1.read()\n",
        "FileContent"
      ],
      "execution_count": 13,
      "outputs": [
        {
          "output_type": "execute_result",
          "data": {
            "text/plain": [
              "'This is line1\\nThis is line2\\nThis is line3'"
            ],
            "application/vnd.google.colaboratory.intrinsic+json": {
              "type": "string"
            }
          },
          "metadata": {},
          "execution_count": 13
        }
      ]
    },
    {
      "cell_type": "markdown",
      "metadata": {
        "id": "0_C12EYNYI0d"
      },
      "source": [
        "The <b>\\n</b> means that there is a new line."
      ]
    },
    {
      "cell_type": "markdown",
      "metadata": {
        "id": "5oa-WfVMYI0e"
      },
      "source": [
        "We can print the file:"
      ]
    },
    {
      "cell_type": "code",
      "metadata": {
        "id": "H7ttKTIhYI0e",
        "colab": {
          "base_uri": "https://localhost:8080/"
        },
        "outputId": "cef48dde-a93c-470f-8dc3-59ab2d47beae"
      },
      "source": [
        "# Print the file with '\\n' as a new line\n",
        "\n",
        "print(FileContent)"
      ],
      "execution_count": 14,
      "outputs": [
        {
          "output_type": "stream",
          "name": "stdout",
          "text": [
            "This is line1\n",
            "This is line2\n",
            "This is line3\n"
          ]
        }
      ]
    },
    {
      "cell_type": "markdown",
      "metadata": {
        "id": "atbm4EMuYI0h"
      },
      "source": [
        "The file is of type string:"
      ]
    },
    {
      "cell_type": "code",
      "metadata": {
        "id": "JqhDnmIxYI0h",
        "colab": {
          "base_uri": "https://localhost:8080/"
        },
        "outputId": "76b0c12a-25f4-4ed9-d615-21aff3d614be"
      },
      "source": [
        "# Type of file content\n",
        "\n",
        "type(FileContent)"
      ],
      "execution_count": 15,
      "outputs": [
        {
          "output_type": "execute_result",
          "data": {
            "text/plain": [
              "str"
            ]
          },
          "metadata": {},
          "execution_count": 15
        }
      ]
    },
    {
      "cell_type": "markdown",
      "metadata": {
        "id": "GH29ckC2YI0k"
      },
      "source": [
        " We must close the file object:"
      ]
    },
    {
      "cell_type": "code",
      "metadata": {
        "id": "_bJAhDCnYI0l"
      },
      "source": [
        "# Close file after finish\n",
        "\n",
        "file1.close()"
      ],
      "execution_count": 16,
      "outputs": []
    },
    {
      "cell_type": "markdown",
      "metadata": {
        "id": "tZv9r5FoYI0n"
      },
      "source": [
        "<hr>"
      ]
    },
    {
      "cell_type": "markdown",
      "metadata": {
        "id": "j3G2q17aYI0o"
      },
      "source": [
        "<h2 id=\"better\">A Better Way to Open a File</h2>"
      ]
    },
    {
      "cell_type": "markdown",
      "metadata": {
        "id": "-E93gRXQYI0o"
      },
      "source": [
        "Using the <code>with</code> statement is better practice, it automatically closes the file even if the code encounters an exception. The code will run everything in the indent block then close the file object."
      ]
    },
    {
      "cell_type": "code",
      "metadata": {
        "id": "C51ZuarpYI0p",
        "colab": {
          "base_uri": "https://localhost:8080/"
        },
        "outputId": "8a30a74c-a244-492e-a788-06062693d3f6"
      },
      "source": [
        "# Open file using with\n",
        "\n",
        "with open(example1, \"r\") as file1:\n",
        "    FileContent = file1.read()\n",
        "    print(FileContent)"
      ],
      "execution_count": 17,
      "outputs": [
        {
          "output_type": "stream",
          "name": "stdout",
          "text": [
            "This is line1\n",
            "This is line2\n",
            "This is line3\n"
          ]
        }
      ]
    },
    {
      "cell_type": "markdown",
      "metadata": {
        "id": "g0zYF3uKYI0r"
      },
      "source": [
        "The file object is closed, you can verify it by running the following cell:  "
      ]
    },
    {
      "cell_type": "code",
      "metadata": {
        "id": "JemmW1YvYI0r",
        "colab": {
          "base_uri": "https://localhost:8080/"
        },
        "outputId": "d5184335-bb74-433b-a3f1-0e5a18622913"
      },
      "source": [
        "# Verify if the file is closed\n",
        "\n",
        "file1.closed"
      ],
      "execution_count": 18,
      "outputs": [
        {
          "output_type": "execute_result",
          "data": {
            "text/plain": [
              "True"
            ]
          },
          "metadata": {},
          "execution_count": 18
        }
      ]
    },
    {
      "cell_type": "markdown",
      "metadata": {
        "id": "itgNZE4DYI0t"
      },
      "source": [
        " We can see the info in the file:"
      ]
    },
    {
      "cell_type": "code",
      "metadata": {
        "id": "0ohNCnLxYI0v",
        "colab": {
          "base_uri": "https://localhost:8080/"
        },
        "outputId": "5bccf516-9018-4f8d-f198-fe90f7fb3691"
      },
      "source": [
        "# See the content of file\n",
        "\n",
        "print(FileContent)"
      ],
      "execution_count": 19,
      "outputs": [
        {
          "output_type": "stream",
          "name": "stdout",
          "text": [
            "This is line1\n",
            "This is line2\n",
            "This is line3\n"
          ]
        }
      ]
    },
    {
      "cell_type": "markdown",
      "metadata": {
        "id": "y6LICnjuYI0x"
      },
      "source": [
        "The syntax is a little confusing as the file object is after the <code>as</code> statement. We also don’t explicitly close the file. Therefore we summarize the steps in a figure:"
      ]
    },
    {
      "cell_type": "markdown",
      "metadata": {
        "id": "DBwIeti9YI0y"
      },
      "source": [
        "<img src=\"https://s3-api.us-geo.objectstorage.softlayer.net/cf-courses-data/CognitiveClass/PY0101EN/Chapter%204/Images/ReadWith.png\" width=\"500\" />"
      ]
    },
    {
      "cell_type": "markdown",
      "metadata": {
        "id": "YPga3c5MYI0y"
      },
      "source": [
        "We don’t have to read the entire file, for example, we can read the first 4 characters by entering three as a parameter to the method **.read()**:\n"
      ]
    },
    {
      "cell_type": "code",
      "metadata": {
        "id": "ezc4FOeOYI0z",
        "colab": {
          "base_uri": "https://localhost:8080/"
        },
        "outputId": "3d93de34-f5f1-4e4c-9d13-656300a066ee"
      },
      "source": [
        "# Read first four characters\n",
        "\n",
        "with open(example1, \"r\") as file1:\n",
        "    print(file1.read(4))"
      ],
      "execution_count": 20,
      "outputs": [
        {
          "output_type": "stream",
          "name": "stdout",
          "text": [
            "This\n"
          ]
        }
      ]
    },
    {
      "cell_type": "markdown",
      "metadata": {
        "id": "WNfen-djYI01"
      },
      "source": [
        "Once the method <code>.read(4)</code> is called the first 4 characters are called. If we call the method again, the next 4 characters are called. The output for the following cell will demonstrate the process for different inputs to the method <code>read()</code>:"
      ]
    },
    {
      "cell_type": "code",
      "metadata": {
        "id": "WVpo44aPYI02",
        "colab": {
          "base_uri": "https://localhost:8080/"
        },
        "outputId": "2ec9d868-5550-4cb3-e883-4d99865aa506"
      },
      "source": [
        "# Read certain amount of characters\n",
        "\n",
        "with open(example1, \"r\") as file1:\n",
        "    print(file1.read(4))\n",
        "    print(file1.read(4))\n",
        "    print(file1.read(7))\n",
        "    print(file1.read(15))"
      ],
      "execution_count": 21,
      "outputs": [
        {
          "output_type": "stream",
          "name": "stdout",
          "text": [
            "This\n",
            " is \n",
            "line1\n",
            "T\n",
            "his is line2\n",
            "Th\n"
          ]
        }
      ]
    },
    {
      "cell_type": "markdown",
      "metadata": {
        "id": "FI5iZtGjYI04"
      },
      "source": [
        "The process is illustrated in the below figure, and each color represents the part of the file read after the method <code>read()</code> is called:"
      ]
    },
    {
      "cell_type": "markdown",
      "metadata": {
        "id": "s408n8XzYI04"
      },
      "source": [
        "<img src=\"https://s3-api.us-geo.objectstorage.softlayer.net/cf-courses-data/CognitiveClass/PY0101EN/Chapter%204/Images/ReadChar.png\" width=\"500\" />"
      ]
    },
    {
      "cell_type": "markdown",
      "metadata": {
        "id": "vpllhCzAYI05"
      },
      "source": [
        " Here is an example using the same file, but instead we read 16, 5, and then 9 characters at a time:"
      ]
    },
    {
      "cell_type": "code",
      "metadata": {
        "id": "-PHG33WRYI05",
        "colab": {
          "base_uri": "https://localhost:8080/"
        },
        "outputId": "0be06a45-0b6f-403f-98f9-eb4e6c201077"
      },
      "source": [
        "# Read certain amount of characters\n",
        "\n",
        "with open(example1, \"r\") as file1:\n",
        "    print(file1.read(16))\n",
        "    print(file1.read(5))\n",
        "    print(file1.read(9))"
      ],
      "execution_count": 22,
      "outputs": [
        {
          "output_type": "stream",
          "name": "stdout",
          "text": [
            "This is line1\n",
            "Th\n",
            "is is\n",
            " line2\n",
            "Th\n"
          ]
        }
      ]
    },
    {
      "cell_type": "markdown",
      "metadata": {
        "id": "BxtnGQw5YI07"
      },
      "source": [
        "We can also read one line of the file at a time using the method <code>readline()</code>:"
      ]
    },
    {
      "cell_type": "code",
      "metadata": {
        "id": "6sAU9-cZYI07",
        "colab": {
          "base_uri": "https://localhost:8080/"
        },
        "outputId": "72380d03-5942-478c-9656-84b366f53190"
      },
      "source": [
        "# Read one line\n",
        "\n",
        "with open(example1, \"r\") as file1:\n",
        "    print(\"first line: \" + file1.readline())\n",
        "    print(\"second line: \" + file1.readline())\n",
        "    print(\"third line: \" + file1.readline())"
      ],
      "execution_count": 23,
      "outputs": [
        {
          "output_type": "stream",
          "name": "stdout",
          "text": [
            "first line: This is line1\n",
            "\n",
            "second line: This is line2\n",
            "\n",
            "third line: This is line3\n"
          ]
        }
      ]
    },
    {
      "cell_type": "markdown",
      "metadata": {
        "id": "ciZWHvuqYI0-"
      },
      "source": [
        " We can use a loop to iterate through each line:\n"
      ]
    },
    {
      "cell_type": "code",
      "metadata": {
        "id": "icC5CUvgYI0-",
        "colab": {
          "base_uri": "https://localhost:8080/"
        },
        "outputId": "e2e388dc-41ad-44dc-b323-082cb3ec4bdb"
      },
      "source": [
        "# Iterate through the lines\n",
        "\n",
        "with open(example1,\"r\") as file1:\n",
        "        i = 0;\n",
        "        for line in file1:\n",
        "            print(\"Iteration\", str(i), \": \", line)\n",
        "            i = i + 1;"
      ],
      "execution_count": 24,
      "outputs": [
        {
          "output_type": "stream",
          "name": "stdout",
          "text": [
            "Iteration 0 :  This is line1\n",
            "\n",
            "Iteration 1 :  This is line2\n",
            "\n",
            "Iteration 2 :  This is line3\n"
          ]
        }
      ]
    },
    {
      "cell_type": "markdown",
      "metadata": {
        "id": "bCK6A5QcYI1A"
      },
      "source": [
        "We can use the method <code>readlines()</code> to save the text file to a list:"
      ]
    },
    {
      "cell_type": "code",
      "metadata": {
        "id": "5sw7At23YI1A"
      },
      "source": [
        "# Read all lines and save as a list --> 자주 사용함\n",
        "\n",
        "with open(example1, \"r\") as file1:\n",
        "    FileasList = file1.readlines()"
      ],
      "execution_count": 25,
      "outputs": []
    },
    {
      "cell_type": "markdown",
      "metadata": {
        "id": "UiI91YFxYI1D"
      },
      "source": [
        " Each element of the list corresponds to a line of text:"
      ]
    },
    {
      "cell_type": "code",
      "metadata": {
        "id": "06c1c6K0YI1D",
        "colab": {
          "base_uri": "https://localhost:8080/",
          "height": 35
        },
        "outputId": "13ee3488-ba23-4866-c67b-5f1b6e55867b"
      },
      "source": [
        "# Print the first line\n",
        "\n",
        "FileasList[0]"
      ],
      "execution_count": 26,
      "outputs": [
        {
          "output_type": "execute_result",
          "data": {
            "text/plain": [
              "'This is line1\\n'"
            ],
            "application/vnd.google.colaboratory.intrinsic+json": {
              "type": "string"
            }
          },
          "metadata": {},
          "execution_count": 26
        }
      ]
    },
    {
      "cell_type": "code",
      "metadata": {
        "id": "0H4Pw_LXYI1G",
        "colab": {
          "base_uri": "https://localhost:8080/",
          "height": 35
        },
        "outputId": "5cdbad0b-b57e-4cf4-8666-44551d177768"
      },
      "source": [
        "# Print the second line\n",
        "\n",
        "FileasList[1]"
      ],
      "execution_count": 27,
      "outputs": [
        {
          "output_type": "execute_result",
          "data": {
            "text/plain": [
              "'This is line2\\n'"
            ],
            "application/vnd.google.colaboratory.intrinsic+json": {
              "type": "string"
            }
          },
          "metadata": {},
          "execution_count": 27
        }
      ]
    },
    {
      "cell_type": "code",
      "metadata": {
        "id": "TxBaR_CuYI1I",
        "colab": {
          "base_uri": "https://localhost:8080/",
          "height": 35
        },
        "outputId": "2affd02f-ebc5-47ea-f3c7-1a771e7aca96"
      },
      "source": [
        "# Print the third line\n",
        "\n",
        "FileasList[2]"
      ],
      "execution_count": 28,
      "outputs": [
        {
          "output_type": "execute_result",
          "data": {
            "text/plain": [
              "'This is line3'"
            ],
            "application/vnd.google.colaboratory.intrinsic+json": {
              "type": "string"
            }
          },
          "metadata": {},
          "execution_count": 28
        }
      ]
    },
    {
      "cell_type": "code",
      "source": [
        "FileasList[2]"
      ],
      "metadata": {
        "id": "Hlrlyf2Ln4I_",
        "outputId": "8b138cc9-deaf-493e-8895-d08d311c3828",
        "colab": {
          "base_uri": "https://localhost:8080/",
          "height": 35
        }
      },
      "execution_count": 32,
      "outputs": [
        {
          "output_type": "execute_result",
          "data": {
            "text/plain": [
              "'This is line3'"
            ],
            "application/vnd.google.colaboratory.intrinsic+json": {
              "type": "string"
            }
          },
          "metadata": {},
          "execution_count": 32
        }
      ]
    },
    {
      "cell_type": "code",
      "source": [
        "FileasList[3]"
      ],
      "metadata": {
        "id": "NiyuD32Tn66I",
        "outputId": "90c64608-f988-48a9-9f37-453cd9bc9b97",
        "colab": {
          "base_uri": "https://localhost:8080/",
          "height": 184
        }
      },
      "execution_count": 37,
      "outputs": [
        {
          "output_type": "error",
          "ename": "IndexError",
          "evalue": "ignored",
          "traceback": [
            "\u001b[0;31m---------------------------------------------------------------------------\u001b[0m",
            "\u001b[0;31mIndexError\u001b[0m                                Traceback (most recent call last)",
            "\u001b[0;32m<ipython-input-37-a1ec478045d0>\u001b[0m in \u001b[0;36m<cell line: 1>\u001b[0;34m()\u001b[0m\n\u001b[0;32m----> 1\u001b[0;31m \u001b[0mFileasList\u001b[0m\u001b[0;34m[\u001b[0m\u001b[0;36m3\u001b[0m\u001b[0;34m]\u001b[0m\u001b[0;34m\u001b[0m\u001b[0;34m\u001b[0m\u001b[0m\n\u001b[0m",
            "\u001b[0;31mIndexError\u001b[0m: list index out of range"
          ]
        }
      ]
    },
    {
      "cell_type": "markdown",
      "metadata": {
        "id": "UIdkEl0PYI1K"
      },
      "source": [
        "<hr>\n",
        "<h2>The last exercise!</h2>\n",
        "<p>Congratulations, you have completed your first lesson and hands-on lab in Python. However, there is one more thing you need to do. The Data Science community encourages sharing work. The best way to share and showcase your work is to share it on GitHub. By sharing your notebook on GitHub you are not only building your reputation with fellow data scientists, but you can also show it off when applying for a job. Even though this was your first piece of work, it is never too early to start building good habits. Please submit all your exercises to Github & let the traces in our LMS, so for me to access your work\n",
        "<hr>"
      ]
    },
    {
      "cell_type": "markdown",
      "metadata": {
        "id": "HgizhkYtYI1L"
      },
      "source": [
        "<hr>"
      ]
    },
    {
      "cell_type": "markdown",
      "metadata": {
        "id": "djcp5L_dYI1M"
      },
      "source": [
        "<p>Copyright &copy; 2023 RYU HOKYOUNG based on 2018 IBM Developer Skills Network. This notebook and its source code are released under the terms of the <a href=\"https://cognitiveclass.ai/mit-license/\">MIT License</a>.</p>"
      ]
    }
  ]
}