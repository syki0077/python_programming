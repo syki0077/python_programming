{
  "nbformat": 4,
  "nbformat_minor": 0,
  "metadata": {
    "colab": {
      "provenance": []
    },
    "kernelspec": {
      "name": "python3",
      "display_name": "Python 3"
    },
    "language_info": {
      "name": "python"
    }
  },
  "cells": [
    {
      "cell_type": "code",
      "execution_count": null,
      "metadata": {
        "id": "DLvT3nR-SghL"
      },
      "outputs": [],
      "source": [
        "# 2023158996 기성엽 과제"
      ]
    },
    {
      "cell_type": "markdown",
      "source": [
        "Quiz on Tuples"
      ],
      "metadata": {
        "id": "z0OmgyTYaUuT"
      }
    },
    {
      "cell_type": "markdown",
      "source": [
        "Consider the following tuple:"
      ],
      "metadata": {
        "id": "5CRiib_iaVM3"
      }
    },
    {
      "cell_type": "code",
      "source": [
        "genres_tuples = (\"pop\", \"rock\", \"soul\", \"hard rock\", \"soft rock\", \\\n",
        "                \"R&B\", \"progressive rock\", \"disco\")\n",
        "genres_tuples"
      ],
      "metadata": {
        "colab": {
          "base_uri": "https://localhost:8080/"
        },
        "id": "xcuMgGwgWBzd",
        "outputId": "9dc934fd-e620-4f3f-a2e0-ffa8eed29f05"
      },
      "execution_count": 8,
      "outputs": [
        {
          "output_type": "execute_result",
          "data": {
            "text/plain": [
              "('pop',\n",
              " 'rock',\n",
              " 'soul',\n",
              " 'hard rock',\n",
              " 'soft rock',\n",
              " 'R&B',\n",
              " 'progressive rock',\n",
              " 'disco')"
            ]
          },
          "metadata": {},
          "execution_count": 8
        }
      ]
    },
    {
      "cell_type": "markdown",
      "source": [
        "ind the length of the tuple, genres_tuple:"
      ],
      "metadata": {
        "id": "VDswGEDeaYDz"
      }
    },
    {
      "cell_type": "code",
      "source": [
        "len(genres_tuples)"
      ],
      "metadata": {
        "colab": {
          "base_uri": "https://localhost:8080/"
        },
        "id": "_5vSgFyFXLDa",
        "outputId": "e9613eb0-e14e-4d03-88a4-7c3679916849"
      },
      "execution_count": 9,
      "outputs": [
        {
          "output_type": "execute_result",
          "data": {
            "text/plain": [
              "8"
            ]
          },
          "metadata": {},
          "execution_count": 9
        }
      ]
    },
    {
      "cell_type": "markdown",
      "source": [
        "Access the element, with respect to index 3:"
      ],
      "metadata": {
        "id": "rAiMH6DKafwt"
      }
    },
    {
      "cell_type": "code",
      "source": [
        "genres_tuples[3]"
      ],
      "metadata": {
        "colab": {
          "base_uri": "https://localhost:8080/",
          "height": 35
        },
        "id": "zbNtl0auXc0T",
        "outputId": "161ca054-a84f-48dc-e5a6-0b6f887e9121"
      },
      "execution_count": 10,
      "outputs": [
        {
          "output_type": "execute_result",
          "data": {
            "text/plain": [
              "'hard rock'"
            ],
            "application/vnd.google.colaboratory.intrinsic+json": {
              "type": "string"
            }
          },
          "metadata": {},
          "execution_count": 10
        }
      ]
    },
    {
      "cell_type": "markdown",
      "source": [
        "Use slicing to obtain indexes 3, 4 and 5:"
      ],
      "metadata": {
        "id": "qEFXOau7a6w3"
      }
    },
    {
      "cell_type": "code",
      "source": [
        "genres_tuples[3:6]"
      ],
      "metadata": {
        "colab": {
          "base_uri": "https://localhost:8080/"
        },
        "id": "7T7VpoG4XYp7",
        "outputId": "c9214287-75b3-4463-f2d6-8148da69fc74"
      },
      "execution_count": 12,
      "outputs": [
        {
          "output_type": "execute_result",
          "data": {
            "text/plain": [
              "('hard rock', 'soft rock', 'R&B')"
            ]
          },
          "metadata": {},
          "execution_count": 12
        }
      ]
    },
    {
      "cell_type": "markdown",
      "source": [
        "Find the first two elements of the tuple genres_tuple:"
      ],
      "metadata": {
        "id": "WvZMxmB0bCMx"
      }
    },
    {
      "cell_type": "code",
      "source": [
        "genres_tuples[0:2]"
      ],
      "metadata": {
        "colab": {
          "base_uri": "https://localhost:8080/"
        },
        "id": "W5DBJyMYXWl_",
        "outputId": "5008c395-aaa1-46d4-824e-59a3e5304b5b"
      },
      "execution_count": 14,
      "outputs": [
        {
          "output_type": "execute_result",
          "data": {
            "text/plain": [
              "('pop', 'rock')"
            ]
          },
          "metadata": {},
          "execution_count": 14
        }
      ]
    },
    {
      "cell_type": "markdown",
      "source": [
        "Find the first index of \"disco\":"
      ],
      "metadata": {
        "id": "M-DlNj-_bJeA"
      }
    },
    {
      "cell_type": "code",
      "source": [
        "genres_tuples.index(\"disco\")"
      ],
      "metadata": {
        "colab": {
          "base_uri": "https://localhost:8080/"
        },
        "id": "bdW1-YgQXVhz",
        "outputId": "8ea49d7c-d97d-4907-ab42-5b3d98c17942"
      },
      "execution_count": 18,
      "outputs": [
        {
          "output_type": "execute_result",
          "data": {
            "text/plain": [
              "7"
            ]
          },
          "metadata": {},
          "execution_count": 18
        }
      ]
    },
    {
      "cell_type": "markdown",
      "source": [
        "Generate a sorted List from the Tuple C_tuple=(-5, 1, -3):"
      ],
      "metadata": {
        "id": "AFpjLwO2bYwM"
      }
    },
    {
      "cell_type": "code",
      "source": [
        "C_tuple=(-5, 1, -3)\n",
        "C_list = sorted(C_tuple)\n",
        "C_list"
      ],
      "metadata": {
        "colab": {
          "base_uri": "https://localhost:8080/"
        },
        "id": "vplGVdaiY9JC",
        "outputId": "e82cedc3-c006-4cfc-817f-fb5d6b831fed"
      },
      "execution_count": 21,
      "outputs": [
        {
          "output_type": "execute_result",
          "data": {
            "text/plain": [
              "[-5, -3, 1]"
            ]
          },
          "metadata": {},
          "execution_count": 21
        }
      ]
    }
  ]
}