{
  "nbformat": 4,
  "nbformat_minor": 0,
  "metadata": {
    "colab": {
      "provenance": []
    },
    "kernelspec": {
      "name": "python3",
      "display_name": "Python 3"
    },
    "language_info": {
      "name": "python"
    }
  },
  "cells": [
    {
      "cell_type": "code",
      "execution_count": null,
      "metadata": {
        "id": "oegdQVOuS7dV"
      },
      "outputs": [],
      "source": [
        "# 2023158996 기성엽 과제"
      ]
    },
    {
      "cell_type": "markdown",
      "source": [
        "Quiz on Dictionaries"
      ],
      "metadata": {
        "id": "1pJ66Acucfby"
      }
    },
    {
      "cell_type": "markdown",
      "source": [
        "You will need this dictionary for the next two questions:"
      ],
      "metadata": {
        "id": "ZYpNfd_IdF81"
      }
    },
    {
      "cell_type": "code",
      "source": [
        "soundtrack_dict = {\"The Bodyguard\":\"1992\", \"Saturday Night Fever\":\"1977\"}\n",
        "soundtrack_dict"
      ],
      "metadata": {
        "colab": {
          "base_uri": "https://localhost:8080/"
        },
        "id": "pxlBB2W9j3OR",
        "outputId": "1138e2ff-7bf0-4d85-9593-dec77ee8876b"
      },
      "execution_count": 1,
      "outputs": [
        {
          "output_type": "execute_result",
          "data": {
            "text/plain": [
              "{'The Bodyguard': '1992', 'Saturday Night Fever': '1977'}"
            ]
          },
          "metadata": {},
          "execution_count": 1
        }
      ]
    },
    {
      "cell_type": "markdown",
      "source": [
        "a) In the dictionary soundtrack_dict what are the keys ?"
      ],
      "metadata": {
        "id": "6E5ST6vddtxE"
      }
    },
    {
      "cell_type": "code",
      "source": [
        "soundtrack_dict.keys()"
      ],
      "metadata": {
        "colab": {
          "base_uri": "https://localhost:8080/"
        },
        "id": "FZb3jVNdCLy2",
        "outputId": "580eb770-1d46-41da-f445-eb7e0dac0e81"
      },
      "execution_count": 2,
      "outputs": [
        {
          "output_type": "execute_result",
          "data": {
            "text/plain": [
              "dict_keys(['The Bodyguard', 'Saturday Night Fever'])"
            ]
          },
          "metadata": {},
          "execution_count": 2
        }
      ]
    },
    {
      "cell_type": "markdown",
      "source": [
        "b) In the dictionary soundtrack_dict what are the values ?"
      ],
      "metadata": {
        "id": "aJ7VqFUKeCkx"
      }
    },
    {
      "cell_type": "code",
      "source": [
        "soundtrack_dict.values()"
      ],
      "metadata": {
        "colab": {
          "base_uri": "https://localhost:8080/"
        },
        "id": "NxjUXhj9Ciex",
        "outputId": "56e61a8c-7272-414f-dcde-b0646df0ab19"
      },
      "execution_count": 3,
      "outputs": [
        {
          "output_type": "execute_result",
          "data": {
            "text/plain": [
              "dict_values(['1992', '1977'])"
            ]
          },
          "metadata": {},
          "execution_count": 3
        }
      ]
    },
    {
      "cell_type": "markdown",
      "source": [
        "You will need this dictionary for the following questions:"
      ],
      "metadata": {
        "id": "kbB4Fb7Ae2-K"
      }
    },
    {
      "cell_type": "markdown",
      "source": [
        "The Albums Back in Black, The Bodyguard and Thriller have the following music recording sales in millions 50, 50 and 65 respectively:"
      ],
      "metadata": {
        "id": "iXs75CoIeJpW"
      }
    },
    {
      "cell_type": "markdown",
      "source": [
        "a) Create a dictionary album_sales_dict where the keys are the album name and the sales in millions are the values."
      ],
      "metadata": {
        "id": "p84xK8-ieMQQ"
      }
    },
    {
      "cell_type": "code",
      "source": [
        "album_sales_dict = {\"The Bodyguard\":50, \"Back in Black\":50, \"Thriller\":65}\n",
        "album_sales_dict"
      ],
      "metadata": {
        "id": "xLTiFLqJCpA_",
        "colab": {
          "base_uri": "https://localhost:8080/"
        },
        "outputId": "f94b651c-11d7-4c58-c4e0-bf90795d26b3"
      },
      "execution_count": 6,
      "outputs": [
        {
          "output_type": "execute_result",
          "data": {
            "text/plain": [
              "{'The Bodyguard': 50, 'Back in Black': 50, 'Thriller': 65}"
            ]
          },
          "metadata": {},
          "execution_count": 6
        }
      ]
    },
    {
      "cell_type": "markdown",
      "source": [
        "b) Use the dictionary to find the total sales of Thriller:"
      ],
      "metadata": {
        "id": "8eQCaDsyeY0K"
      }
    },
    {
      "cell_type": "code",
      "source": [
        "album_sales_dict[\"Thriller\"]"
      ],
      "metadata": {
        "colab": {
          "base_uri": "https://localhost:8080/"
        },
        "id": "NXXXj0xKeemA",
        "outputId": "0761e4d2-386b-46fa-cb56-ef158b256197"
      },
      "execution_count": 8,
      "outputs": [
        {
          "output_type": "execute_result",
          "data": {
            "text/plain": [
              "65"
            ]
          },
          "metadata": {},
          "execution_count": 8
        }
      ]
    },
    {
      "cell_type": "markdown",
      "source": [
        "c) Find the names of the albums from the dictionary using the method keys:"
      ],
      "metadata": {
        "id": "jCdQb4HXeeCB"
      }
    },
    {
      "cell_type": "code",
      "source": [
        "album_sales_dict.keys()"
      ],
      "metadata": {
        "colab": {
          "base_uri": "https://localhost:8080/"
        },
        "id": "fH-clSn_enlZ",
        "outputId": "95ec3c09-8813-4209-b1e4-062542e094bc"
      },
      "execution_count": 9,
      "outputs": [
        {
          "output_type": "execute_result",
          "data": {
            "text/plain": [
              "dict_keys(['The Bodyguard', 'Back in Black', 'Thriller'])"
            ]
          },
          "metadata": {},
          "execution_count": 9
        }
      ]
    },
    {
      "cell_type": "markdown",
      "source": [
        "d) Find the names of the recording sales from the dictionary using the method values:"
      ],
      "metadata": {
        "id": "iFqJT41xerhW"
      }
    },
    {
      "cell_type": "code",
      "source": [
        "album_sales_dict.values()"
      ],
      "metadata": {
        "colab": {
          "base_uri": "https://localhost:8080/"
        },
        "id": "R5DactCYesKm",
        "outputId": "b7d7fc29-cbde-4cb0-97a8-8291c9387310"
      },
      "execution_count": 10,
      "outputs": [
        {
          "output_type": "execute_result",
          "data": {
            "text/plain": [
              "dict_values([50, 50, 65])"
            ]
          },
          "metadata": {},
          "execution_count": 10
        }
      ]
    }
  ]
}