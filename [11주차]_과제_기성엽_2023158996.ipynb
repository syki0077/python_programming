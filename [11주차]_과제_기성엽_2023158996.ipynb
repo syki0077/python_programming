{
  "cells": [
    {
      "cell_type": "markdown",
      "metadata": {
        "id": "Ei8BdXNO20G_"
      },
      "source": [
        "# 2023158996 기성엽 과제"
      ]
    },
    {
      "cell_type": "code",
      "execution_count": null,
      "metadata": {
        "id": "uoxQhSXH20HB",
        "outputId": "f6a9ebfe-2a15-4328-f259-d4f71c227785"
      },
      "outputs": [
        {
          "name": "stdout",
          "output_type": "stream",
          "text": [
            "Defaulting to user installation because normal site-packages is not writeable\n",
            "Collecting numpy\n",
            "  Downloading numpy-1.26.2-cp39-cp39-macosx_11_0_arm64.whl (14.0 MB)\n",
            "\u001b[K     |████████████████████████████████| 14.0 MB 13.8 MB/s eta 0:00:01\n",
            "\u001b[?25hInstalling collected packages: numpy\n",
            "Successfully installed numpy-1.26.2\n",
            "\u001b[33mWARNING: You are using pip version 21.2.4; however, version 23.3.1 is available.\n",
            "You should consider upgrading via the '/Library/Developer/CommandLineTools/usr/bin/python3 -m pip install --upgrade pip' command.\u001b[0m\n"
          ]
        }
      ],
      "source": [
        "!pip3 install numpy"
      ]
    },
    {
      "cell_type": "markdown",
      "metadata": {
        "id": "aNNf2Jjr20HC"
      },
      "source": [
        "# Reading the example code"
      ]
    },
    {
      "cell_type": "code",
      "execution_count": null,
      "metadata": {
        "id": "3SPwj9wI20HD",
        "outputId": "6d0f19b1-e273-4886-ac62-1240e1bd0ab7"
      },
      "outputs": [
        {
          "name": "stdout",
          "output_type": "stream",
          "text": [
            "(1, 6)\n"
          ]
        }
      ],
      "source": [
        "import numpy as np\n",
        "\n",
        "a = np.arange(6)\n",
        "a2 = a[np.newaxis, :]\n",
        "print(a2.shape)"
      ]
    },
    {
      "cell_type": "markdown",
      "metadata": {
        "id": "Evh-BG0Q20HD"
      },
      "source": [
        "# What is an array?"
      ]
    },
    {
      "cell_type": "code",
      "execution_count": null,
      "metadata": {
        "id": "V2Ljsb-320HD",
        "outputId": "670d47ac-2851-4faf-cd56-263da5c0a545"
      },
      "outputs": [
        {
          "name": "stdout",
          "output_type": "stream",
          "text": [
            "1\n",
            "[1 2 3 4 5 6]\n"
          ]
        }
      ],
      "source": [
        "a = np.array([1, 2, 3, 4, 5, 6])\n",
        "\n",
        "print(a[0])\n",
        "\n",
        "a = np.array([[1, 2, 3, 4, 5, 6], [7, 8, 9, 10, 11, 12]])\n",
        "\n",
        "print(a[0])"
      ]
    },
    {
      "cell_type": "markdown",
      "metadata": {
        "id": "ks1zem8920HD"
      },
      "source": [
        "# How to create a basic array"
      ]
    },
    {
      "cell_type": "code",
      "execution_count": null,
      "metadata": {
        "id": "fCqLA7k_20HD",
        "outputId": "0fc74ff9-7ee3-4292-8713-5a0089666a77"
      },
      "outputs": [
        {
          "data": {
            "text/plain": [
              "array([0., 0.])"
            ]
          },
          "execution_count": 19,
          "metadata": {},
          "output_type": "execute_result"
        }
      ],
      "source": [
        "np.zeros(2)\n",
        "# array([0., 0.])"
      ]
    },
    {
      "cell_type": "code",
      "execution_count": null,
      "metadata": {
        "id": "PT2eN26V20HE",
        "outputId": "a291ad1e-9a74-443c-c492-449631f3dcb2"
      },
      "outputs": [
        {
          "data": {
            "text/plain": [
              "array([1., 1.])"
            ]
          },
          "execution_count": 20,
          "metadata": {},
          "output_type": "execute_result"
        }
      ],
      "source": [
        "np.ones(2)\n",
        "\n",
        "# array([1., 1.])"
      ]
    },
    {
      "cell_type": "code",
      "execution_count": null,
      "metadata": {
        "id": "NX3R9owb20HE",
        "outputId": "bbabaf59-12ec-4d84-93d2-9db81431ec34"
      },
      "outputs": [
        {
          "data": {
            "text/plain": [
              "array([1., 1.])"
            ]
          },
          "execution_count": 24,
          "metadata": {},
          "output_type": "execute_result"
        }
      ],
      "source": [
        "np.empty(2)\n",
        "# array([3.14, 42.  ])  # may vary"
      ]
    },
    {
      "cell_type": "code",
      "execution_count": null,
      "metadata": {
        "id": "Zlx51nqk20HE",
        "outputId": "52d4c523-242e-46fd-e9c2-aefa2e302a52"
      },
      "outputs": [
        {
          "data": {
            "text/plain": [
              "array([0, 1, 2, 3])"
            ]
          },
          "execution_count": 26,
          "metadata": {},
          "output_type": "execute_result"
        }
      ],
      "source": [
        "np.arange(4)"
      ]
    },
    {
      "cell_type": "code",
      "execution_count": null,
      "metadata": {
        "id": "t3uhzSN720HE",
        "outputId": "cb9e6f3e-87b3-414a-9860-f9a856311d77"
      },
      "outputs": [
        {
          "data": {
            "text/plain": [
              "array([2, 4, 6, 8])"
            ]
          },
          "execution_count": 27,
          "metadata": {},
          "output_type": "execute_result"
        }
      ],
      "source": [
        "np.arange(2, 9, 2)"
      ]
    },
    {
      "cell_type": "code",
      "execution_count": null,
      "metadata": {
        "id": "ZULGCY2z20HE",
        "outputId": "925164cb-bf51-45b7-d830-89e8f4ae228e"
      },
      "outputs": [
        {
          "data": {
            "text/plain": [
              "array([ 0. ,  2.5,  5. ,  7.5, 10. ])"
            ]
          },
          "execution_count": 28,
          "metadata": {},
          "output_type": "execute_result"
        }
      ],
      "source": [
        "np.linspace(0, 10, num=5)"
      ]
    },
    {
      "cell_type": "code",
      "execution_count": null,
      "metadata": {
        "id": "XnBeUh-620HE",
        "outputId": "63f5857f-9e0d-4d25-a67a-66ec2efd2339"
      },
      "outputs": [
        {
          "data": {
            "text/plain": [
              "array([1, 1])"
            ]
          },
          "execution_count": 30,
          "metadata": {},
          "output_type": "execute_result"
        }
      ],
      "source": [
        "x = np.ones(2, dtype=np.int64)\n",
        "x"
      ]
    },
    {
      "cell_type": "markdown",
      "metadata": {
        "id": "4ZrJDDg620HF"
      },
      "source": [
        "# Adding, removing, and sorting elements"
      ]
    },
    {
      "cell_type": "code",
      "execution_count": null,
      "metadata": {
        "id": "s9690QjQ20HF",
        "outputId": "5dcc2b83-bd8a-4dfb-b732-3398ba16e5a1"
      },
      "outputs": [
        {
          "data": {
            "text/plain": [
              "array([1, 2, 3, 4, 5, 6, 7, 8])"
            ]
          },
          "execution_count": 32,
          "metadata": {},
          "output_type": "execute_result"
        }
      ],
      "source": [
        "arr = np.array([2, 1, 5, 3, 7, 4, 6, 8])\n",
        "\n",
        "np.sort(arr)"
      ]
    },
    {
      "cell_type": "code",
      "execution_count": null,
      "metadata": {
        "id": "NuPMYhTm20HF",
        "outputId": "4c284863-50ce-40b8-d7ad-a4c3c4c6848c"
      },
      "outputs": [
        {
          "data": {
            "text/plain": [
              "array([1, 2, 3, 4, 5, 6, 7, 8])"
            ]
          },
          "execution_count": 34,
          "metadata": {},
          "output_type": "execute_result"
        }
      ],
      "source": [
        "a = np.array([1, 2, 3, 4])\n",
        "b = np.array([5, 6, 7, 8])\n",
        "\n",
        "np.concatenate((a, b))"
      ]
    },
    {
      "cell_type": "code",
      "execution_count": null,
      "metadata": {
        "id": "-bpkUywo20HF",
        "outputId": "bf066027-fe8c-48e4-b954-05d8ca7248c9"
      },
      "outputs": [
        {
          "data": {
            "text/plain": [
              "array([[1, 2],\n",
              "       [3, 4],\n",
              "       [5, 6]])"
            ]
          },
          "execution_count": 35,
          "metadata": {},
          "output_type": "execute_result"
        }
      ],
      "source": [
        "x = np.array([[1, 2], [3, 4]])\n",
        "y = np.array([[5, 6]])\n",
        "\n",
        "np.concatenate((x, y), axis=0)"
      ]
    },
    {
      "cell_type": "markdown",
      "metadata": {
        "id": "6DJBg2W_20HF"
      },
      "source": [
        "# How do you know the shape and size of an array?\n"
      ]
    },
    {
      "cell_type": "code",
      "execution_count": null,
      "metadata": {
        "id": "Lo7Omywm20HH",
        "outputId": "2e34c4ff-362f-426f-e1ce-48c6e1f6ace9"
      },
      "outputs": [
        {
          "name": "stdout",
          "output_type": "stream",
          "text": [
            "3\n",
            "24\n",
            "(3, 2, 4)\n"
          ]
        }
      ],
      "source": [
        "array_example = np.array([[[0, 1, 2, 3],\n",
        "                           [4, 5, 6, 7]],\n",
        "\n",
        "                          [[0, 1, 2, 3],\n",
        "                           [4, 5, 6, 7]],\n",
        "\n",
        "                          [[0 ,1 ,2, 3],\n",
        "                           [4, 5, 6, 7]]])\n",
        "\n",
        "\n",
        "\n",
        "print(array_example.ndim)\n",
        "print(array_example.size)\n",
        "print(array_example.shape)"
      ]
    },
    {
      "cell_type": "markdown",
      "metadata": {
        "id": "vc8hUg8Y20HH"
      },
      "source": [
        "# Can you reshape an array?"
      ]
    },
    {
      "cell_type": "code",
      "execution_count": null,
      "metadata": {
        "id": "RxdAPTEq20HH",
        "outputId": "37133a29-6096-43ab-dd5a-b921b5119b59"
      },
      "outputs": [
        {
          "name": "stdout",
          "output_type": "stream",
          "text": [
            "[0 1 2 3 4 5]\n",
            "[[0 1]\n",
            " [2 3]\n",
            " [4 5]]\n"
          ]
        },
        {
          "data": {
            "text/plain": [
              "array([[0, 1, 2, 3, 4, 5]])"
            ]
          },
          "execution_count": 42,
          "metadata": {},
          "output_type": "execute_result"
        }
      ],
      "source": [
        "a = np.arange(6)\n",
        "print(a)\n",
        "\n",
        "b = a.reshape(3, 2)\n",
        "print(b)\n",
        "\n",
        "np.reshape(a, newshape=(1, 6), order='C')"
      ]
    },
    {
      "cell_type": "markdown",
      "metadata": {
        "id": "pl4C8vUZ20HH"
      },
      "source": [
        "# How to convert a 1D array into a 2D array (how to add a new axis to an array)\n"
      ]
    },
    {
      "cell_type": "code",
      "execution_count": null,
      "metadata": {
        "id": "_3F4kaPs20HI",
        "outputId": "ab6a1dd6-42f7-4a7d-cb68-9f8706f15195"
      },
      "outputs": [
        {
          "data": {
            "text/plain": [
              "(6,)"
            ]
          },
          "execution_count": 43,
          "metadata": {},
          "output_type": "execute_result"
        }
      ],
      "source": [
        "a = np.array([1, 2, 3, 4, 5, 6])\n",
        "a.shape"
      ]
    },
    {
      "cell_type": "code",
      "execution_count": null,
      "metadata": {
        "id": "h1BGl6Du20HI",
        "outputId": "b71f2797-7170-4de8-ecbb-5ddc50448d7b"
      },
      "outputs": [
        {
          "data": {
            "text/plain": [
              "(1, 6)"
            ]
          },
          "execution_count": 44,
          "metadata": {},
          "output_type": "execute_result"
        }
      ],
      "source": [
        "a2 = a[np.newaxis, :]\n",
        "a2.shape"
      ]
    },
    {
      "cell_type": "code",
      "execution_count": null,
      "metadata": {
        "id": "ma-BGXnk20HI",
        "outputId": "ccd479e1-b6bb-4423-a4e8-d66eda41fda5"
      },
      "outputs": [
        {
          "data": {
            "text/plain": [
              "(1, 6)"
            ]
          },
          "execution_count": 45,
          "metadata": {},
          "output_type": "execute_result"
        }
      ],
      "source": [
        "row_vector = a[np.newaxis, :]\n",
        "row_vector.shape"
      ]
    },
    {
      "cell_type": "code",
      "execution_count": null,
      "metadata": {
        "id": "XIfzt0LQ20HI",
        "outputId": "ea7426b4-7df2-44ce-ef4e-61f1525c8b8b"
      },
      "outputs": [
        {
          "data": {
            "text/plain": [
              "(6, 1)"
            ]
          },
          "execution_count": 46,
          "metadata": {},
          "output_type": "execute_result"
        }
      ],
      "source": [
        "col_vector = a[:, np.newaxis]\n",
        "col_vector.shape"
      ]
    },
    {
      "cell_type": "code",
      "execution_count": null,
      "metadata": {
        "id": "p_Sf3Ypv20HI",
        "outputId": "892cde7b-542c-4f92-b22e-06851cf9e7eb"
      },
      "outputs": [
        {
          "data": {
            "text/plain": [
              "(6,)"
            ]
          },
          "execution_count": 47,
          "metadata": {},
          "output_type": "execute_result"
        }
      ],
      "source": [
        "a = np.array([1, 2, 3, 4, 5, 6])\n",
        "a.shape"
      ]
    },
    {
      "cell_type": "code",
      "execution_count": null,
      "metadata": {
        "id": "MFIGabPm20HI",
        "outputId": "37e2ca86-7bfa-4862-cd71-380213523392"
      },
      "outputs": [
        {
          "data": {
            "text/plain": [
              "(6, 1)"
            ]
          },
          "execution_count": 48,
          "metadata": {},
          "output_type": "execute_result"
        }
      ],
      "source": [
        "b = np.expand_dims(a, axis=1)\n",
        "b.shape"
      ]
    },
    {
      "cell_type": "code",
      "execution_count": null,
      "metadata": {
        "id": "r9tbYqWm20HI",
        "outputId": "a0f6085b-55f1-4b9e-c28b-287824560e56"
      },
      "outputs": [
        {
          "data": {
            "text/plain": [
              "(1, 6)"
            ]
          },
          "execution_count": 49,
          "metadata": {},
          "output_type": "execute_result"
        }
      ],
      "source": [
        "c = np.expand_dims(a, axis=0)\n",
        "c.shape"
      ]
    },
    {
      "cell_type": "markdown",
      "metadata": {
        "id": "jZ5l6gSw20HI"
      },
      "source": [
        "# Indexing and slicing"
      ]
    },
    {
      "cell_type": "code",
      "execution_count": null,
      "metadata": {
        "id": "Jhd-XX8o20HI",
        "outputId": "6eded8ca-be27-4ce3-9860-f7e19ec8168a"
      },
      "outputs": [
        {
          "name": "stdout",
          "output_type": "stream",
          "text": [
            "2\n",
            "[1 2]\n",
            "[2 3]\n",
            "[2 3]\n"
          ]
        }
      ],
      "source": [
        "data = np.array([1, 2, 3])\n",
        "\n",
        "print(data[1])\n",
        "\n",
        "print(data[0:2])\n",
        "\n",
        "print(data[1:])\n",
        "\n",
        "print(data[-2:])\n"
      ]
    },
    {
      "cell_type": "code",
      "execution_count": null,
      "metadata": {
        "id": "ljgZq2sQ20HI",
        "outputId": "33e4df52-6c8f-427e-a4ff-3b218020b653"
      },
      "outputs": [
        {
          "name": "stdout",
          "output_type": "stream",
          "text": [
            "[ 5  6  7  8  9 10 11 12]\n"
          ]
        }
      ],
      "source": [
        "a = np.array([[1 , 2, 3, 4], [5, 6, 7, 8], [9, 10, 11, 12]])\n",
        "\n",
        "five_up = (a >= 5)\n",
        "print(a[five_up])"
      ]
    },
    {
      "cell_type": "code",
      "execution_count": null,
      "metadata": {
        "id": "73vmXHSm20HI",
        "outputId": "01a12525-8f83-4ad6-b4c5-31f41aec0558"
      },
      "outputs": [
        {
          "name": "stdout",
          "output_type": "stream",
          "text": [
            "[ 2  4  6  8 10 12]\n"
          ]
        }
      ],
      "source": [
        "divisible_by_2 = a[a%2==0]\n",
        "print(divisible_by_2)"
      ]
    },
    {
      "cell_type": "code",
      "execution_count": null,
      "metadata": {
        "id": "xI0lBRIG20HJ",
        "outputId": "103b7d53-1484-4464-fdcd-cea87db2c916"
      },
      "outputs": [
        {
          "name": "stdout",
          "output_type": "stream",
          "text": [
            "[ 3  4  5  6  7  8  9 10]\n"
          ]
        }
      ],
      "source": [
        "c = a[(a > 2) & (a < 11)]\n",
        "print(c)"
      ]
    },
    {
      "cell_type": "code",
      "execution_count": null,
      "metadata": {
        "id": "Lv0l4AKA20HJ",
        "outputId": "d870906c-c5bc-4cbb-fd7a-546a3405e88a"
      },
      "outputs": [
        {
          "name": "stdout",
          "output_type": "stream",
          "text": [
            "[[False False False False]\n",
            " [ True  True  True  True]\n",
            " [ True  True  True  True]]\n"
          ]
        }
      ],
      "source": [
        "five_up = (a > 5) | (a == 5)\n",
        "print(five_up)"
      ]
    },
    {
      "cell_type": "code",
      "execution_count": null,
      "metadata": {
        "id": "Y4MHDQhh20HJ",
        "outputId": "01015c00-4b2a-4b21-d36b-90d01d946636"
      },
      "outputs": [
        {
          "name": "stdout",
          "output_type": "stream",
          "text": [
            "(array([0, 0, 0, 0]), array([0, 1, 2, 3]))\n"
          ]
        }
      ],
      "source": [
        "a = np.array([[1, 2, 3, 4], [5, 6, 7, 8], [9, 10, 11, 12]])\n",
        "b = np.nonzero(a < 5)\n",
        "print(b)"
      ]
    },
    {
      "cell_type": "code",
      "execution_count": null,
      "metadata": {
        "id": "DtPdJjd720HJ",
        "outputId": "a23d24de-8213-456e-d334-3aa2a359c947"
      },
      "outputs": [
        {
          "name": "stdout",
          "output_type": "stream",
          "text": [
            "(0, 0)\n",
            "(0, 1)\n",
            "(0, 2)\n",
            "(0, 3)\n"
          ]
        }
      ],
      "source": [
        "list_of_coordinates= list(zip(b[0], b[1]))\n",
        "\n",
        "for coord in list_of_coordinates:\n",
        "    print(coord)"
      ]
    },
    {
      "cell_type": "code",
      "execution_count": null,
      "metadata": {
        "id": "kbCMvlwQ20HJ",
        "outputId": "4d1af182-ed0e-4b05-8fd2-fa888e52a2fd"
      },
      "outputs": [
        {
          "name": "stdout",
          "output_type": "stream",
          "text": [
            "[1 2 3 4]\n"
          ]
        }
      ],
      "source": [
        "print(a[b])"
      ]
    },
    {
      "cell_type": "code",
      "execution_count": null,
      "metadata": {
        "id": "SXDBe9vd20HN",
        "outputId": "ec111a81-1262-498c-84ab-6e78085fed8b"
      },
      "outputs": [
        {
          "name": "stdout",
          "output_type": "stream",
          "text": [
            "(array([], dtype=int64), array([], dtype=int64))\n"
          ]
        }
      ],
      "source": [
        "not_there = np.nonzero(a == 42)\n",
        "print(not_there)"
      ]
    },
    {
      "cell_type": "markdown",
      "metadata": {
        "id": "YSB46avP20HN"
      },
      "source": [
        "# How to create an array from existing data\n"
      ]
    },
    {
      "cell_type": "code",
      "execution_count": null,
      "metadata": {
        "id": "VOcw20Sp20HN",
        "outputId": "a64a2683-2b7a-4126-cb83-7fb0bae3a128"
      },
      "outputs": [
        {
          "data": {
            "text/plain": [
              "array([4, 5, 6, 7, 8])"
            ]
          },
          "execution_count": 64,
          "metadata": {},
          "output_type": "execute_result"
        }
      ],
      "source": [
        "a = np.array([1,  2,  3,  4,  5,  6,  7,  8,  9, 10])\n",
        "\n",
        "arr1 = a[3:8]\n",
        "arr1"
      ]
    },
    {
      "cell_type": "code",
      "execution_count": null,
      "metadata": {
        "id": "lcnpOue920HN",
        "outputId": "36f41c28-ef56-42cd-fd90-7bbf73e38228"
      },
      "outputs": [
        {
          "data": {
            "text/plain": [
              "array([[1, 1],\n",
              "       [2, 2],\n",
              "       [3, 3],\n",
              "       [4, 4]])"
            ]
          },
          "execution_count": 66,
          "metadata": {},
          "output_type": "execute_result"
        }
      ],
      "source": [
        "a1 = np.array([[1, 1],[2, 2]])\n",
        "a2 = np.array([[3, 3],[4, 4]])\n",
        "\n",
        "np.vstack((a1, a2))"
      ]
    },
    {
      "cell_type": "code",
      "execution_count": null,
      "metadata": {
        "id": "QpQ9CF9d20HN",
        "outputId": "48ae57c5-7be7-4461-c921-493e35e35ecf"
      },
      "outputs": [
        {
          "data": {
            "text/plain": [
              "array([[1, 1, 3, 3],\n",
              "       [2, 2, 4, 4]])"
            ]
          },
          "execution_count": 67,
          "metadata": {},
          "output_type": "execute_result"
        }
      ],
      "source": [
        "np.hstack((a1, a2))"
      ]
    },
    {
      "cell_type": "code",
      "execution_count": null,
      "metadata": {
        "id": "JjnXiUob20HN",
        "outputId": "bdbfe6a9-019f-4719-c70f-fa3611138be9"
      },
      "outputs": [
        {
          "data": {
            "text/plain": [
              "array([[ 1,  2,  3,  4,  5,  6,  7,  8,  9, 10, 11, 12],\n",
              "       [13, 14, 15, 16, 17, 18, 19, 20, 21, 22, 23, 24]])"
            ]
          },
          "execution_count": 68,
          "metadata": {},
          "output_type": "execute_result"
        }
      ],
      "source": [
        "x = np.arange(1, 25).reshape(2, 12)\n",
        "x"
      ]
    },
    {
      "cell_type": "code",
      "execution_count": null,
      "metadata": {
        "id": "Ys75Rm0520HN",
        "outputId": "40623f21-ccc3-48b9-db5b-39aaa3c4e847"
      },
      "outputs": [
        {
          "data": {
            "text/plain": [
              "[array([[ 1,  2,  3,  4],\n",
              "        [13, 14, 15, 16]]),\n",
              " array([[ 5,  6,  7,  8],\n",
              "        [17, 18, 19, 20]]),\n",
              " array([[ 9, 10, 11, 12],\n",
              "        [21, 22, 23, 24]])]"
            ]
          },
          "execution_count": 69,
          "metadata": {},
          "output_type": "execute_result"
        }
      ],
      "source": [
        "np.hsplit(x, 3)"
      ]
    },
    {
      "cell_type": "code",
      "execution_count": null,
      "metadata": {
        "id": "g2yFJRr720HN",
        "outputId": "6373a734-4ebd-4104-90f0-a93f3732279d"
      },
      "outputs": [
        {
          "data": {
            "text/plain": [
              "[array([[ 1,  2,  3],\n",
              "        [13, 14, 15]]),\n",
              " array([[ 4],\n",
              "        [16]]),\n",
              " array([[ 5,  6,  7,  8,  9, 10, 11, 12],\n",
              "        [17, 18, 19, 20, 21, 22, 23, 24]])]"
            ]
          },
          "execution_count": 70,
          "metadata": {},
          "output_type": "execute_result"
        }
      ],
      "source": [
        "np.hsplit(x, (3, 4))"
      ]
    },
    {
      "cell_type": "code",
      "execution_count": null,
      "metadata": {
        "id": "HoRuQzI620HN",
        "outputId": "3004c275-b08b-40bd-d014-cf14feec8327"
      },
      "outputs": [
        {
          "data": {
            "text/plain": [
              "array([1, 2, 3, 4])"
            ]
          },
          "execution_count": 71,
          "metadata": {},
          "output_type": "execute_result"
        }
      ],
      "source": [
        "a = np.array([[1, 2, 3, 4], [5, 6, 7, 8], [9, 10, 11, 12]])\n",
        "\n",
        "b1 = a[0, :]\n",
        "b1"
      ]
    },
    {
      "cell_type": "code",
      "execution_count": null,
      "metadata": {
        "id": "O8IypxsA20HO",
        "outputId": "4cbca77f-3563-4b2f-e956-3f510d97becf"
      },
      "outputs": [
        {
          "data": {
            "text/plain": [
              "array([99,  2,  3,  4])"
            ]
          },
          "execution_count": 72,
          "metadata": {},
          "output_type": "execute_result"
        }
      ],
      "source": [
        "b1[0] = 99\n",
        "b1"
      ]
    },
    {
      "cell_type": "code",
      "execution_count": null,
      "metadata": {
        "id": "h-eW2kk820HO",
        "outputId": "99c8819a-4f1b-4872-fcf4-e35da37eccf4"
      },
      "outputs": [
        {
          "data": {
            "text/plain": [
              "array([[99,  2,  3,  4],\n",
              "       [ 5,  6,  7,  8],\n",
              "       [ 9, 10, 11, 12]])"
            ]
          },
          "execution_count": 73,
          "metadata": {},
          "output_type": "execute_result"
        }
      ],
      "source": [
        "a"
      ]
    },
    {
      "cell_type": "code",
      "execution_count": null,
      "metadata": {
        "id": "JuBJ1W_W20HO",
        "outputId": "fca4cdb5-c3f0-4883-eda0-ed781f1b44a6"
      },
      "outputs": [
        {
          "data": {
            "text/plain": [
              "array([[99,  2,  3,  4],\n",
              "       [ 5,  6,  7,  8],\n",
              "       [ 9, 10, 11, 12]])"
            ]
          },
          "execution_count": 75,
          "metadata": {},
          "output_type": "execute_result"
        }
      ],
      "source": [
        "b2=a.copy()\n",
        "b2"
      ]
    },
    {
      "cell_type": "markdown",
      "metadata": {
        "id": "ftQIKCn_20HO"
      },
      "source": [
        "# Basic array operations"
      ]
    },
    {
      "cell_type": "code",
      "execution_count": null,
      "metadata": {
        "id": "IjqbEyQ420HO",
        "outputId": "10a5988c-b02b-47d5-f50c-5044459e4516"
      },
      "outputs": [
        {
          "data": {
            "text/plain": [
              "array([2, 3])"
            ]
          },
          "execution_count": 76,
          "metadata": {},
          "output_type": "execute_result"
        }
      ],
      "source": [
        "data = np.array([1, 2])\n",
        "ones = np.ones(2, dtype=int)\n",
        "data + ones"
      ]
    },
    {
      "cell_type": "code",
      "execution_count": null,
      "metadata": {
        "id": "vxpdic5Q20HO",
        "outputId": "147fe4f0-431e-4939-bb31-4ed1264c82fa"
      },
      "outputs": [
        {
          "data": {
            "text/plain": [
              "array([1., 1.])"
            ]
          },
          "execution_count": 77,
          "metadata": {},
          "output_type": "execute_result"
        }
      ],
      "source": [
        "data - ones\n",
        "# array([0, 1])\n",
        "data * data\n",
        "# array([1, 4])\n",
        "data / data\n",
        "# array([1., 1.])"
      ]
    },
    {
      "cell_type": "code",
      "execution_count": null,
      "metadata": {
        "id": "qE-viUFd20HO",
        "outputId": "4b92935d-7813-4436-9b79-590d0c1bf652"
      },
      "outputs": [
        {
          "data": {
            "text/plain": [
              "10"
            ]
          },
          "execution_count": 78,
          "metadata": {},
          "output_type": "execute_result"
        }
      ],
      "source": [
        "a = np.array([1, 2, 3, 4])\n",
        "\n",
        "a.sum()"
      ]
    },
    {
      "cell_type": "code",
      "execution_count": null,
      "metadata": {
        "id": "bTtPgkv120HO",
        "outputId": "e4bfe8a5-4e62-48fb-bca5-269c44c34c87"
      },
      "outputs": [
        {
          "data": {
            "text/plain": [
              "array([3, 3])"
            ]
          },
          "execution_count": 80,
          "metadata": {},
          "output_type": "execute_result"
        }
      ],
      "source": [
        "b = np.array([[1, 1], [2, 2]])\n",
        "b.sum(axis=0)"
      ]
    },
    {
      "cell_type": "code",
      "execution_count": null,
      "metadata": {
        "id": "eTMgxZXH20HO",
        "outputId": "708ba970-189c-427d-c65a-fcad8f779deb"
      },
      "outputs": [
        {
          "data": {
            "text/plain": [
              "array([2, 4])"
            ]
          },
          "execution_count": 81,
          "metadata": {},
          "output_type": "execute_result"
        }
      ],
      "source": [
        "b.sum(axis=1)"
      ]
    },
    {
      "cell_type": "markdown",
      "metadata": {
        "id": "z4PBrCLk20HO"
      },
      "source": [
        "# Broadcasting"
      ]
    },
    {
      "cell_type": "code",
      "execution_count": null,
      "metadata": {
        "id": "MFz2nX0x20HO",
        "outputId": "939d98c8-0414-4afc-d6c0-d2dae8269d3c"
      },
      "outputs": [
        {
          "data": {
            "text/plain": [
              "array([1.6, 3.2])"
            ]
          },
          "execution_count": 82,
          "metadata": {},
          "output_type": "execute_result"
        }
      ],
      "source": [
        "data = np.array([1.0, 2.0])\n",
        "data * 1.6"
      ]
    },
    {
      "cell_type": "code",
      "execution_count": null,
      "metadata": {
        "id": "4KAZci-d20HP",
        "outputId": "dccdd2a0-7bac-4658-9373-c18a563e3519"
      },
      "outputs": [
        {
          "name": "stdout",
          "output_type": "stream",
          "text": [
            "2.0\n",
            "1.0\n",
            "3.0\n"
          ]
        }
      ],
      "source": [
        "print(data.max())\n",
        "print(data.min())\n",
        "print(data.sum())\n"
      ]
    },
    {
      "cell_type": "code",
      "execution_count": null,
      "metadata": {
        "id": "mW2vjIm420HP",
        "outputId": "93a95a9f-3ca7-436a-eeeb-d471338d633b"
      },
      "outputs": [
        {
          "name": "stdout",
          "output_type": "stream",
          "text": [
            "4.8595784\n",
            "0.05093587\n",
            "[0.12697628 0.05093587 0.26590556 0.5510652 ]\n"
          ]
        }
      ],
      "source": [
        "a = np.array([[0.45053314, 0.17296777, 0.34376245, 0.5510652],\n",
        "              [0.54627315, 0.05093587, 0.40067661, 0.55645993],\n",
        "              [0.12697628, 0.82485143, 0.26590556, 0.56917101]])\n",
        "\n",
        "\n",
        "print(a.sum())\n",
        "\n",
        "print(a.min())\n",
        "print(a.min(axis=0))"
      ]
    },
    {
      "cell_type": "markdown",
      "metadata": {
        "id": "EcHunwOf20HP"
      },
      "source": [
        "# Creating matrices"
      ]
    },
    {
      "cell_type": "code",
      "execution_count": null,
      "metadata": {
        "id": "sVB9qiL420HP",
        "outputId": "6a571c42-f82d-4c79-f2be-c8a8d3d6cc97"
      },
      "outputs": [
        {
          "data": {
            "text/plain": [
              "array([[1, 2],\n",
              "       [3, 4],\n",
              "       [5, 6]])"
            ]
          },
          "execution_count": 90,
          "metadata": {},
          "output_type": "execute_result"
        }
      ],
      "source": [
        "data = np.array([[1, 2], [3, 4], [5, 6]])\n",
        "data"
      ]
    },
    {
      "cell_type": "code",
      "execution_count": null,
      "metadata": {
        "id": "IYC0aQxj20HP",
        "outputId": "baf16282-3158-486c-ffa2-6b8d36a4e3c4"
      },
      "outputs": [
        {
          "name": "stdout",
          "output_type": "stream",
          "text": [
            "2\n",
            "[[3 4]\n",
            " [5 6]]\n",
            "[1 3]\n"
          ]
        }
      ],
      "source": [
        "print(data[0, 1])\n",
        "\n",
        "print(data[1:3])\n",
        "\n",
        "print(data[0:2, 0])"
      ]
    },
    {
      "cell_type": "code",
      "execution_count": null,
      "metadata": {
        "id": "VnJkI54420HP",
        "outputId": "404ad57a-d7e6-4b58-fdd9-04faf89f2117"
      },
      "outputs": [
        {
          "name": "stdout",
          "output_type": "stream",
          "text": [
            "6\n",
            "1\n",
            "21\n"
          ]
        }
      ],
      "source": [
        "print(data.max())\n",
        "print(data.min())\n",
        "print(data.sum())"
      ]
    },
    {
      "cell_type": "code",
      "execution_count": null,
      "metadata": {
        "id": "Uvo8NOWP20HP",
        "outputId": "a92e39c0-2bb2-4ac5-87fc-1bfc801d1a3b"
      },
      "outputs": [
        {
          "name": "stdout",
          "output_type": "stream",
          "text": [
            "[[1 2]\n",
            " [5 3]\n",
            " [4 6]]\n",
            "[5 6]\n",
            "[2 5 6]\n"
          ]
        }
      ],
      "source": [
        "data = np.array([[1, 2], [5, 3], [4, 6]])\n",
        "print(data)\n",
        "\n",
        "print(data.max(axis=0))\n",
        "\n",
        "print(data.max(axis=1))\n"
      ]
    },
    {
      "cell_type": "code",
      "execution_count": null,
      "metadata": {
        "id": "1sXTsLKz20HP",
        "outputId": "09624dd1-a13d-45fe-d59f-39e94f486394"
      },
      "outputs": [
        {
          "data": {
            "text/plain": [
              "array([[2, 3],\n",
              "       [4, 5]])"
            ]
          },
          "execution_count": 95,
          "metadata": {},
          "output_type": "execute_result"
        }
      ],
      "source": [
        "data = np.array([[1, 2], [3, 4]])\n",
        "ones = np.array([[1, 1], [1, 1]])\n",
        "data + ones"
      ]
    },
    {
      "cell_type": "code",
      "execution_count": null,
      "metadata": {
        "id": "r1SQHnda20HP",
        "outputId": "c72252bc-3bf5-404e-869b-0b2b303b3fc5"
      },
      "outputs": [
        {
          "data": {
            "text/plain": [
              "array([[2, 3],\n",
              "       [4, 5],\n",
              "       [6, 7]])"
            ]
          },
          "execution_count": 96,
          "metadata": {},
          "output_type": "execute_result"
        }
      ],
      "source": [
        "data = np.array([[1, 2], [3, 4], [5, 6]])\n",
        "ones_row = np.array([[1, 1]])\n",
        "data + ones_row"
      ]
    },
    {
      "cell_type": "code",
      "execution_count": null,
      "metadata": {
        "id": "lK8C5n2l20HP",
        "outputId": "1edafac2-fb91-42ac-f782-fa1e96f4acb2"
      },
      "outputs": [
        {
          "data": {
            "text/plain": [
              "array([[[1., 1.],\n",
              "        [1., 1.],\n",
              "        [1., 1.]],\n",
              "\n",
              "       [[1., 1.],\n",
              "        [1., 1.],\n",
              "        [1., 1.]],\n",
              "\n",
              "       [[1., 1.],\n",
              "        [1., 1.],\n",
              "        [1., 1.]],\n",
              "\n",
              "       [[1., 1.],\n",
              "        [1., 1.],\n",
              "        [1., 1.]]])"
            ]
          },
          "execution_count": 97,
          "metadata": {},
          "output_type": "execute_result"
        }
      ],
      "source": [
        "np.ones((4, 3, 2))"
      ]
    },
    {
      "cell_type": "code",
      "execution_count": null,
      "metadata": {
        "id": "r9vOtWDj20HP",
        "outputId": "0c283324-dd4a-421e-aebe-c3a5f2256706"
      },
      "outputs": [
        {
          "name": "stdout",
          "output_type": "stream",
          "text": [
            "[1. 1. 1.]\n",
            "[0. 0. 0.]\n"
          ]
        },
        {
          "data": {
            "text/plain": [
              "array([0.88913257, 0.97521421, 0.45982302])"
            ]
          },
          "execution_count": 98,
          "metadata": {},
          "output_type": "execute_result"
        }
      ],
      "source": [
        "print(np.ones(3))\n",
        "\n",
        "print(np.zeros(3))\n",
        "\n",
        "rng = np.random.default_rng()  # the simplest way to generate random numbers\n",
        "\n",
        "rng.random(3)"
      ]
    },
    {
      "cell_type": "code",
      "execution_count": null,
      "metadata": {
        "id": "ZXsUOlGV20HP",
        "outputId": "31bfe40a-f4fd-4a2d-b643-14ca4b77ef44"
      },
      "outputs": [
        {
          "data": {
            "text/plain": [
              "array([[1., 1.],\n",
              "       [1., 1.],\n",
              "       [1., 1.]])"
            ]
          },
          "execution_count": 99,
          "metadata": {},
          "output_type": "execute_result"
        }
      ],
      "source": [
        "np.ones((3,2))"
      ]
    },
    {
      "cell_type": "code",
      "execution_count": null,
      "metadata": {
        "id": "VSGD62ro20HQ",
        "outputId": "7b032157-e56c-49b8-d526-3150b16a2ed5"
      },
      "outputs": [
        {
          "data": {
            "text/plain": [
              "array([[0., 0.],\n",
              "       [0., 0.],\n",
              "       [0., 0.]])"
            ]
          },
          "execution_count": 101,
          "metadata": {},
          "output_type": "execute_result"
        }
      ],
      "source": [
        "np.zeros((3, 2))"
      ]
    },
    {
      "cell_type": "code",
      "execution_count": null,
      "metadata": {
        "id": "kZtxwF_X20HQ",
        "outputId": "ff54d02d-a4a4-486a-d8b8-5db26b382364"
      },
      "outputs": [
        {
          "data": {
            "text/plain": [
              "array([[2.88445832e-01, 9.56864635e-01],\n",
              "       [2.55581971e-01, 9.41293532e-01],\n",
              "       [7.72066762e-04, 9.05179267e-01]])"
            ]
          },
          "execution_count": 100,
          "metadata": {},
          "output_type": "execute_result"
        }
      ],
      "source": [
        "rng.random((3, 2))"
      ]
    },
    {
      "cell_type": "markdown",
      "metadata": {
        "id": "FRWjghFd20HQ"
      },
      "source": [
        "# Generating random numbers"
      ]
    },
    {
      "cell_type": "code",
      "execution_count": null,
      "metadata": {
        "id": "iox4Dr7D20HQ",
        "outputId": "f5683587-a1b5-4463-f00a-f33516643d30"
      },
      "outputs": [
        {
          "data": {
            "text/plain": [
              "array([[2, 3, 3, 2],\n",
              "       [2, 1, 2, 0]])"
            ]
          },
          "execution_count": 104,
          "metadata": {},
          "output_type": "execute_result"
        }
      ],
      "source": [
        "rng.integers(5, size=(2, 4))"
      ]
    },
    {
      "cell_type": "markdown",
      "metadata": {
        "id": "Arg_5-tj20HQ"
      },
      "source": [
        "# How to get unique items and counts"
      ]
    },
    {
      "cell_type": "code",
      "execution_count": null,
      "metadata": {
        "id": "17w095Ym20HQ",
        "outputId": "f4539a2d-8ff1-4b21-bc38-f5711e502472"
      },
      "outputs": [
        {
          "name": "stdout",
          "output_type": "stream",
          "text": [
            "[11 12 13 14 15 16 17 18 19 20]\n"
          ]
        }
      ],
      "source": [
        "a = np.array([11, 11, 12, 13, 14, 15, 16, 17, 12, 13, 11, 14, 18, 19, 20])\n",
        "\n",
        "unique_values = np.unique(a)\n",
        "print(unique_values)"
      ]
    },
    {
      "cell_type": "code",
      "execution_count": null,
      "metadata": {
        "id": "GapM18A_20HQ",
        "outputId": "2464c650-2c00-4b4a-c93e-93cb116e5f7e"
      },
      "outputs": [
        {
          "name": "stdout",
          "output_type": "stream",
          "text": [
            "[ 0  2  3  4  5  6  7 12 13 14]\n"
          ]
        }
      ],
      "source": [
        "unique_values, indices_list = np.unique(a, return_index=True)\n",
        "print(indices_list)"
      ]
    },
    {
      "cell_type": "code",
      "execution_count": null,
      "metadata": {
        "id": "1ePmCiRZ20HQ",
        "outputId": "e5fda8f1-acda-4dea-e285-1e2b9e236146"
      },
      "outputs": [
        {
          "name": "stdout",
          "output_type": "stream",
          "text": [
            "[3 2 2 2 1 1 1 1 1 1]\n"
          ]
        }
      ],
      "source": [
        "unique_values, occurrence_count = np.unique(a, return_counts=True)\n",
        "print(occurrence_count)"
      ]
    },
    {
      "cell_type": "code",
      "execution_count": null,
      "metadata": {
        "id": "fYzOV_9b20HQ",
        "outputId": "6b581c84-3dac-4ca8-95ef-20a1dae4362f"
      },
      "outputs": [
        {
          "name": "stdout",
          "output_type": "stream",
          "text": [
            "[ 1  2  3  4  5  6  7  8  9 10 11 12]\n"
          ]
        }
      ],
      "source": [
        "a_2d = np.array([[1, 2, 3, 4], [5, 6, 7, 8], [9, 10, 11, 12], [1, 2, 3, 4]])\n",
        "unique_values = np.unique(a_2d)\n",
        "print(unique_values)"
      ]
    },
    {
      "cell_type": "code",
      "execution_count": null,
      "metadata": {
        "id": "m8waZm7b20HQ",
        "outputId": "e54a7764-0f1d-40c8-9655-943a464652a4"
      },
      "outputs": [
        {
          "name": "stdout",
          "output_type": "stream",
          "text": [
            "[[ 1  2  3  4]\n",
            " [ 5  6  7  8]\n",
            " [ 9 10 11 12]]\n"
          ]
        }
      ],
      "source": [
        "unique_rows = np.unique(a_2d, axis=0)\n",
        "print(unique_rows)"
      ]
    },
    {
      "cell_type": "code",
      "execution_count": null,
      "metadata": {
        "id": "frXBXLhp20HQ",
        "outputId": "aecbf1c1-5cab-4a7f-cfb7-db066a28cea3"
      },
      "outputs": [
        {
          "name": "stdout",
          "output_type": "stream",
          "text": [
            "[[ 1  2  3  4]\n",
            " [ 5  6  7  8]\n",
            " [ 9 10 11 12]]\n",
            "[0 1 2]\n",
            "[2 1 1]\n"
          ]
        }
      ],
      "source": [
        "unique_rows, indices, occurrence_count = np.unique(\n",
        "     a_2d, axis=0, return_counts=True, return_index=True)\n",
        "print(unique_rows)\n",
        "print(indices)\n",
        "print(occurrence_count)"
      ]
    },
    {
      "cell_type": "markdown",
      "metadata": {
        "id": "ODw2iQbr20HQ"
      },
      "source": [
        "# Transposing and reshaping a matrix"
      ]
    },
    {
      "cell_type": "code",
      "execution_count": null,
      "metadata": {
        "id": "82rx5Lh720HQ",
        "outputId": "6a2b21e3-61c8-4b40-e277-e8eecce6ca02"
      },
      "outputs": [
        {
          "data": {
            "text/plain": [
              "array([[1, 2, 3],\n",
              "       [4, 5, 6]])"
            ]
          },
          "execution_count": 113,
          "metadata": {},
          "output_type": "execute_result"
        }
      ],
      "source": [
        "data.reshape(2, 3)"
      ]
    },
    {
      "cell_type": "code",
      "execution_count": null,
      "metadata": {
        "id": "CzqLIvWB20HR",
        "outputId": "243c1104-13f0-4704-9cae-e25e67f690ae"
      },
      "outputs": [
        {
          "data": {
            "text/plain": [
              "array([[1, 2],\n",
              "       [3, 4],\n",
              "       [5, 6]])"
            ]
          },
          "execution_count": 114,
          "metadata": {},
          "output_type": "execute_result"
        }
      ],
      "source": [
        "data.reshape(3, 2)"
      ]
    },
    {
      "cell_type": "code",
      "execution_count": null,
      "metadata": {
        "id": "mgtT2L3u20HR",
        "outputId": "83208e3a-55ec-423e-b053-574a8b576693"
      },
      "outputs": [
        {
          "data": {
            "text/plain": [
              "array([[0, 1, 2],\n",
              "       [3, 4, 5]])"
            ]
          },
          "execution_count": 115,
          "metadata": {},
          "output_type": "execute_result"
        }
      ],
      "source": [
        "arr = np.arange(6).reshape((2, 3))\n",
        "arr"
      ]
    },
    {
      "cell_type": "code",
      "execution_count": null,
      "metadata": {
        "id": "ZMmdDlvQ20HR",
        "outputId": "d0a4c5a5-cad1-4e5f-b737-26582d3cfd03"
      },
      "outputs": [
        {
          "data": {
            "text/plain": [
              "array([[0, 3],\n",
              "       [1, 4],\n",
              "       [2, 5]])"
            ]
          },
          "execution_count": 116,
          "metadata": {},
          "output_type": "execute_result"
        }
      ],
      "source": [
        "arr.transpose()"
      ]
    },
    {
      "cell_type": "code",
      "execution_count": null,
      "metadata": {
        "id": "clFi3cno20HR",
        "outputId": "5e023d11-9544-4f37-db37-33d9812938de"
      },
      "outputs": [
        {
          "data": {
            "text/plain": [
              "array([[0, 3],\n",
              "       [1, 4],\n",
              "       [2, 5]])"
            ]
          },
          "execution_count": 117,
          "metadata": {},
          "output_type": "execute_result"
        }
      ],
      "source": [
        "arr.T"
      ]
    },
    {
      "cell_type": "markdown",
      "metadata": {
        "id": "fsGl-UcR20HR"
      },
      "source": [
        "# How to reverse an array"
      ]
    },
    {
      "cell_type": "code",
      "execution_count": null,
      "metadata": {
        "id": "6hEel4FA20HR",
        "outputId": "078cab9c-8968-4402-9e9d-e90339520e6e"
      },
      "outputs": [
        {
          "name": "stdout",
          "output_type": "stream",
          "text": [
            "Reversed Array:  [8 7 6 5 4 3 2 1]\n"
          ]
        }
      ],
      "source": [
        "arr = np.array([1, 2, 3, 4, 5, 6, 7, 8])\n",
        "reversed_arr = np.flip(arr)\n",
        "print('Reversed Array: ', reversed_arr)\n"
      ]
    },
    {
      "cell_type": "code",
      "execution_count": null,
      "metadata": {
        "id": "hUUJdXtC20HR",
        "outputId": "57bc0567-8da5-4d76-94f6-3a010a52a901"
      },
      "outputs": [
        {
          "name": "stdout",
          "output_type": "stream",
          "text": [
            "[[12 11 10  9]\n",
            " [ 8  7  6  5]\n",
            " [ 4  3  2  1]]\n"
          ]
        }
      ],
      "source": [
        "arr_2d = np.array([[1, 2, 3, 4], [5, 6, 7, 8], [9, 10, 11, 12]])\n",
        "\n",
        "reversed_arr = np.flip(arr_2d)\n",
        "print(reversed_arr)\n"
      ]
    },
    {
      "cell_type": "code",
      "execution_count": null,
      "metadata": {
        "id": "t4sBCfQ_20HR",
        "outputId": "a8bbee02-c184-425d-fe04-bb884aca704a"
      },
      "outputs": [
        {
          "name": "stdout",
          "output_type": "stream",
          "text": [
            "[[ 9 10 11 12]\n",
            " [ 5  6  7  8]\n",
            " [ 1  2  3  4]]\n"
          ]
        }
      ],
      "source": [
        "reversed_arr_rows = np.flip(arr_2d, axis=0)\n",
        "print(reversed_arr_rows)\n"
      ]
    },
    {
      "cell_type": "code",
      "execution_count": null,
      "metadata": {
        "id": "IM97UYHA20HR",
        "outputId": "5bf0f015-12ca-4e6a-b855-2b78f67c98a1"
      },
      "outputs": [
        {
          "name": "stdout",
          "output_type": "stream",
          "text": [
            "[[ 4  3  2  1]\n",
            " [ 8  7  6  5]\n",
            " [12 11 10  9]]\n"
          ]
        }
      ],
      "source": [
        "reversed_arr_columns = np.flip(arr_2d, axis=1)\n",
        "print(reversed_arr_columns)\n"
      ]
    },
    {
      "cell_type": "code",
      "execution_count": null,
      "metadata": {
        "id": "RV_yDqJJ20HR",
        "outputId": "8ed0c629-7e7b-4016-cc5f-ba1668371010"
      },
      "outputs": [
        {
          "name": "stdout",
          "output_type": "stream",
          "text": [
            "[[ 1  2  3  4]\n",
            " [ 8  7  6  5]\n",
            " [ 9 10 11 12]]\n"
          ]
        }
      ],
      "source": [
        "arr_2d[1] = np.flip(arr_2d[1])\n",
        "print(arr_2d)\n"
      ]
    },
    {
      "cell_type": "code",
      "execution_count": null,
      "metadata": {
        "id": "VsXRHdGV20HS",
        "outputId": "dc02f8bd-ec8a-42c8-e661-36a9582102f9"
      },
      "outputs": [
        {
          "name": "stdout",
          "output_type": "stream",
          "text": [
            "[[ 1 10  3  4]\n",
            " [ 8  7  6  5]\n",
            " [ 9  2 11 12]]\n"
          ]
        }
      ],
      "source": [
        "arr_2d[:,1] = np.flip(arr_2d[:,1])\n",
        "print(arr_2d)\n"
      ]
    },
    {
      "cell_type": "markdown",
      "metadata": {
        "id": "y8V7bFCG20HS"
      },
      "source": [
        "# Reshaping and flattening multidimensional arrays\n"
      ]
    },
    {
      "cell_type": "code",
      "execution_count": null,
      "metadata": {
        "id": "O1Yrah1G20HS",
        "outputId": "9b3c0758-9e77-4fde-b38a-3c156fad93df"
      },
      "outputs": [
        {
          "data": {
            "text/plain": [
              "array([ 1,  2,  3,  4,  5,  6,  7,  8,  9, 10, 11, 12])"
            ]
          },
          "execution_count": 124,
          "metadata": {},
          "output_type": "execute_result"
        }
      ],
      "source": [
        "x = np.array([[1 , 2, 3, 4], [5, 6, 7, 8], [9, 10, 11, 12]])\n",
        "x.flatten()"
      ]
    },
    {
      "cell_type": "code",
      "execution_count": null,
      "metadata": {
        "id": "BDSHe9ly20HS",
        "outputId": "27c4e02c-0d4a-490b-8847-0b2c9e6dab9b"
      },
      "outputs": [
        {
          "name": "stdout",
          "output_type": "stream",
          "text": [
            "[[ 1  2  3  4]\n",
            " [ 5  6  7  8]\n",
            " [ 9 10 11 12]]\n",
            "[99  2  3  4  5  6  7  8  9 10 11 12]\n"
          ]
        }
      ],
      "source": [
        "a1 = x.flatten()\n",
        "a1[0] = 99\n",
        "print(x)  # Original array\n",
        "\n",
        "print(a1)  # New array"
      ]
    },
    {
      "cell_type": "code",
      "execution_count": null,
      "metadata": {
        "id": "ivB1cd5G20HS",
        "outputId": "f75dc653-29d8-4c51-c006-0b494cd9a63b"
      },
      "outputs": [
        {
          "name": "stdout",
          "output_type": "stream",
          "text": [
            "[[98  2  3  4]\n",
            " [ 5  6  7  8]\n",
            " [ 9 10 11 12]]\n",
            "[98  2  3  4  5  6  7  8  9 10 11 12]\n"
          ]
        }
      ],
      "source": [
        "a2 = x.ravel()\n",
        "a2[0] = 98\n",
        "print(x)  # Original array\n",
        "\n",
        "print(a2)  # New array"
      ]
    }
  ],
  "metadata": {
    "colab": {
      "include_colab_link": true,
      "provenance": []
    },
    "kernelspec": {
      "display_name": "Python 3",
      "language": "python",
      "name": "python3"
    },
    "language_info": {
      "codemirror_mode": {
        "name": "ipython",
        "version": 3
      },
      "file_extension": ".py",
      "mimetype": "text/x-python",
      "name": "python",
      "nbconvert_exporter": "python",
      "pygments_lexer": "ipython3",
      "version": "3.9.6"
    }
  },
  "nbformat": 4,
  "nbformat_minor": 0
}
