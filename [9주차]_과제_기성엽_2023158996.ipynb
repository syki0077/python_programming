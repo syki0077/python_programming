{
  "cells": [
    {
      "cell_type": "markdown",
      "metadata": {
        "id": "FdfU2Eo4C56P"
      },
      "source": [
        "# 2023158996 기성엽 과제"
      ]
    },
    {
      "cell_type": "code",
      "execution_count": 1,
      "metadata": {
        "colab": {
          "base_uri": "https://localhost:8080/"
        },
        "id": "6wKzL6kOC56S",
        "outputId": "aec8f550-e8af-4f5b-9ad5-3e67689b8675"
      },
      "outputs": [
        {
          "name": "stdout",
          "output_type": "stream",
          "text": [
            "[1, 2, 3, 4, 5]\n"
          ]
        }
      ],
      "source": [
        "number_list= []\n",
        "number_list.append(1)\n",
        "number_list.append(2)\n",
        "number_list.append(3)\n",
        "number_list.append(4)\n",
        "number_list.append(5)\n",
        "\n",
        "print(number_list)"
      ]
    },
    {
      "cell_type": "code",
      "execution_count": 2,
      "metadata": {
        "colab": {
          "base_uri": "https://localhost:8080/"
        },
        "id": "laRMWI5lC56T",
        "outputId": "7bff4860-d5e1-4514-aa56-e9a4a809b25b"
      },
      "outputs": [
        {
          "name": "stdout",
          "output_type": "stream",
          "text": [
            "[1, 2, 3, 4, 5]\n"
          ]
        }
      ],
      "source": [
        "number_list= []\n",
        "for number in range(1, 6):number_list.append(number)\n",
        "print(number_list)"
      ]
    },
    {
      "cell_type": "code",
      "execution_count": 3,
      "metadata": {
        "colab": {
          "base_uri": "https://localhost:8080/"
        },
        "id": "cE5vSWLvC56T",
        "outputId": "84c0f114-1a89-473d-930b-6eccf1280321"
      },
      "outputs": [
        {
          "name": "stdout",
          "output_type": "stream",
          "text": [
            "[1, 2, 3, 4, 5]\n"
          ]
        }
      ],
      "source": [
        "number_list= list(range(1, 6))\n",
        "print(number_list)"
      ]
    },
    {
      "cell_type": "code",
      "execution_count": 4,
      "metadata": {
        "colab": {
          "base_uri": "https://localhost:8080/"
        },
        "id": "YmzhWcEsC56T",
        "outputId": "b6c64f70-730e-4965-f457-2d1982472d78"
      },
      "outputs": [
        {
          "name": "stdout",
          "output_type": "stream",
          "text": [
            "[1, 2, 3, 4, 5]\n"
          ]
        }
      ],
      "source": [
        "number_list= [number for number in range(1,6)]\n",
        "print(number_list)"
      ]
    },
    {
      "cell_type": "code",
      "execution_count": 5,
      "metadata": {
        "colab": {
          "base_uri": "https://localhost:8080/"
        },
        "id": "CSQwJJs8C56U",
        "outputId": "e92281b2-ad1b-4ab8-82e5-a6b26f735cb1"
      },
      "outputs": [
        {
          "name": "stdout",
          "output_type": "stream",
          "text": [
            "[0, 1, 2, 3, 4]\n"
          ]
        }
      ],
      "source": [
        "number_list= [number-1 for number in range(1,6)]\n",
        "print(number_list)"
      ]
    },
    {
      "cell_type": "code",
      "execution_count": 6,
      "metadata": {
        "colab": {
          "base_uri": "https://localhost:8080/"
        },
        "id": "bJ08YSniC56U",
        "outputId": "41f91975-507d-40b4-a06b-5eb4cafaf74e"
      },
      "outputs": [
        {
          "name": "stdout",
          "output_type": "stream",
          "text": [
            "[1, 3, 5]\n"
          ]
        }
      ],
      "source": [
        "a_list= [number for number in range(1,6) if number % 2 == 1]\n",
        "print(a_list)"
      ]
    },
    {
      "cell_type": "code",
      "execution_count": 7,
      "metadata": {
        "colab": {
          "base_uri": "https://localhost:8080/"
        },
        "id": "UsbY9gXiC56U",
        "outputId": "9e3be5cf-47e9-44d4-8f49-18968eb891d1"
      },
      "outputs": [
        {
          "name": "stdout",
          "output_type": "stream",
          "text": [
            "[1, 3, 5]\n"
          ]
        }
      ],
      "source": [
        "a_list= []\n",
        "for number in range(1,6):\n",
        "    if number%2 == 1:\n",
        "        a_list.append(number)\n",
        "\n",
        "print(a_list)"
      ]
    },
    {
      "cell_type": "code",
      "execution_count": 8,
      "metadata": {
        "colab": {
          "base_uri": "https://localhost:8080/"
        },
        "id": "o6H_s7MgC56U",
        "outputId": "db60a328-1d9b-4f3c-b4b3-20cb3628969d"
      },
      "outputs": [
        {
          "data": {
            "text/plain": [
              "[(0, 0, 0),\n",
              " (1, 1, 1),\n",
              " (2, 4, 8),\n",
              " (3, 9, 27),\n",
              " (4, 16, 64),\n",
              " (5, 25, 125),\n",
              " (6, 36, 216),\n",
              " (7, 49, 343),\n",
              " (8, 64, 512),\n",
              " (9, 81, 729)]"
            ]
          },
          "execution_count": 8,
          "metadata": {},
          "output_type": "execute_result"
        }
      ],
      "source": [
        "sentence = ['I', 'Love', 'Python', 'Soooooo', 'MUCH!!!']\n",
        "#함수적용\n",
        "[word.lower() for word in sentence]\n",
        "\n",
        "#조건적용\n",
        "[word for word in sentence if len(word) > 6]\n",
        "\n",
        "#함수적용하여튜플로저장\n",
        "[(x, x ** 2, x ** 3) for x in range(10)]\n"
      ]
    },
    {
      "cell_type": "code",
      "execution_count": 9,
      "metadata": {
        "colab": {
          "base_uri": "https://localhost:8080/"
        },
        "id": "Usk5qIPrC56U",
        "outputId": "ce998835-d2e9-4656-b569-ff1f9ad02871"
      },
      "outputs": [
        {
          "name": "stdout",
          "output_type": "stream",
          "text": [
            "1 1\n",
            "1 2\n",
            "2 1\n",
            "2 2\n",
            "3 1\n",
            "3 2\n"
          ]
        }
      ],
      "source": [
        "rows = range(1,4)\n",
        "cols = range(1,3)\n",
        "for row in rows:\n",
        "    for col in cols:\n",
        "        print(row, col)\n"
      ]
    },
    {
      "cell_type": "code",
      "execution_count": 10,
      "metadata": {
        "colab": {
          "base_uri": "https://localhost:8080/"
        },
        "id": "-CFsSV_2C56U",
        "outputId": "efe10ca1-05e9-4929-898b-bd24a58da857"
      },
      "outputs": [
        {
          "name": "stdout",
          "output_type": "stream",
          "text": [
            "(1, 1)\n",
            "(1, 2)\n",
            "(2, 1)\n",
            "(2, 2)\n",
            "(3, 1)\n",
            "(3, 2)\n"
          ]
        }
      ],
      "source": [
        "rows = range(1,4)\n",
        "cols = range(1,3)\n",
        "cells = [(row, col) for row in rows for col in cols]\n",
        "for cell in cells:\n",
        "    print(cell)"
      ]
    },
    {
      "cell_type": "code",
      "execution_count": 11,
      "metadata": {
        "colab": {
          "base_uri": "https://localhost:8080/"
        },
        "id": "sflNyF07C56V",
        "outputId": "97e7e5bd-a086-4cbf-af07-0e54dc071c7e"
      },
      "outputs": [
        {
          "data": {
            "text/plain": [
              "[(1, 0),\n",
              " (2, 0),\n",
              " (2, 1),\n",
              " (3, 0),\n",
              " (3, 1),\n",
              " (3, 2),\n",
              " (4, 0),\n",
              " (4, 1),\n",
              " (4, 2),\n",
              " (4, 3)]"
            ]
          },
          "execution_count": 11,
          "metadata": {},
          "output_type": "execute_result"
        }
      ],
      "source": [
        "[(i,j) for i in range(5) for j in range(i)]\n"
      ]
    },
    {
      "cell_type": "code",
      "execution_count": 12,
      "metadata": {
        "colab": {
          "base_uri": "https://localhost:8080/"
        },
        "id": "fGmPVPQnC56V",
        "outputId": "31331c52-fe12-49fa-e1d0-57bd48104d1f"
      },
      "outputs": [
        {
          "name": "stdout",
          "output_type": "stream",
          "text": [
            "{'t': 2, 'l': 1, 'e': 2, 's': 1, 'r': 1}\n"
          ]
        }
      ],
      "source": [
        "word = 'letters'\n",
        "letter_counts = {letter: word.count(letter) for letter in set(word)}\n",
        "print(letter_counts)"
      ]
    },
    {
      "cell_type": "code",
      "execution_count": 13,
      "metadata": {
        "colab": {
          "base_uri": "https://localhost:8080/"
        },
        "id": "jYkOMcyJC56V",
        "outputId": "b33d29da-a510-47db-f849-8c6c39ff0b4a"
      },
      "outputs": [
        {
          "name": "stdout",
          "output_type": "stream",
          "text": [
            "{1, 4}\n"
          ]
        }
      ],
      "source": [
        "a_set = {number for number in range(1,6) if number % 3 == 1}\n",
        "print(a_set)"
      ]
    },
    {
      "cell_type": "code",
      "execution_count": 14,
      "metadata": {
        "colab": {
          "base_uri": "https://localhost:8080/"
        },
        "id": "koLIZKEfC56V",
        "outputId": "a5803f09-52ef-4c50-9f96-1e36e2586390"
      },
      "outputs": [
        {
          "name": "stdout",
          "output_type": "stream",
          "text": [
            "Monday : drink coffee - eat banana - enjoy tiramisu\n",
            "Tuesday : drink tea - eat orange - enjoy ice cream\n",
            "Wednesday : drink beer - eat peach - enjoy pie\n"
          ]
        }
      ],
      "source": [
        "days = ['Monday', 'Tuesday', 'Wednesday']\n",
        "fruits = ['banana', 'orange', 'peach']\n",
        "drinks = ['coffee', 'tea', 'beer']\n",
        "desserts = ['tiramisu', 'ice cream', 'pie', 'pudding']\n",
        "for day, fruit, drink, dessert in zip(days, fruits, drinks, desserts):\n",
        "    print(day, \": drink\", drink, \"- eat\", fruit, \"- enjoy\", dessert)"
      ]
    },
    {
      "cell_type": "code",
      "execution_count": 15,
      "metadata": {
        "colab": {
          "base_uri": "https://localhost:8080/"
        },
        "id": "8OOh_jtcC56V",
        "outputId": "c599a747-4144-4677-ff49-78dc9fe13e53"
      },
      "outputs": [
        {
          "name": "stdout",
          "output_type": "stream",
          "text": [
            "[('Monday', 'Lundi'), ('Tuesday', 'Mardi'), ('Wednesday', 'Mercredi')]\n",
            "{'Monday': 'Lundi', 'Tuesday': 'Mardi', 'Wednesday': 'Mercredi'}\n"
          ]
        }
      ],
      "source": [
        "english = 'Monday', 'Tuesday', 'Wednesday'\n",
        "french = 'Lundi', 'Mardi', 'Mercredi'\n",
        "list( zip(english, french) )\n",
        "print(list( zip(english, french) ))\n",
        "\n",
        "dict( zip(english, french) )\n",
        "print(dict( zip(english, french) ))"
      ]
    },
    {
      "cell_type": "code",
      "execution_count": 16,
      "metadata": {
        "colab": {
          "base_uri": "https://localhost:8080/"
        },
        "id": "OG8TgG4AC56V",
        "outputId": "55ed0eec-be04-4f16-8c1e-e2d26a61a2c9"
      },
      "outputs": [
        {
          "data": {
            "text/plain": [
              "{'wine': 'chardonnay', 'entree': 'chicken', 'dessert': 'cake'}"
            ]
          },
          "execution_count": 16,
          "metadata": {},
          "output_type": "execute_result"
        }
      ],
      "source": [
        "def menu(wine, entree, dessert):\n",
        "    return {'wine': wine, 'entree': entree, 'dessert': dessert}\n",
        "\n",
        "menu('chardonnay', 'chicken', 'cake')"
      ]
    },
    {
      "cell_type": "code",
      "execution_count": 17,
      "metadata": {
        "colab": {
          "base_uri": "https://localhost:8080/"
        },
        "id": "-tQMUlykC56V",
        "outputId": "3cd47c64-26ff-49ee-b8d5-b2f115ac379e"
      },
      "outputs": [
        {
          "data": {
            "text/plain": [
              "{'wine': 'bordeaux', 'entree': 'beef', 'dessert': 'bagel'}"
            ]
          },
          "execution_count": 17,
          "metadata": {},
          "output_type": "execute_result"
        }
      ],
      "source": [
        "menu(entree='beef', dessert='bagel', wine='bordeaux')"
      ]
    },
    {
      "cell_type": "code",
      "execution_count": 18,
      "metadata": {
        "colab": {
          "base_uri": "https://localhost:8080/"
        },
        "id": "OFzC4WTtC56V",
        "outputId": "5a21f5b6-e73a-401f-e07c-4d894c55f3f7"
      },
      "outputs": [
        {
          "data": {
            "text/plain": [
              "{'wine': 'frontenac', 'entree': 'fish', 'dessert': 'flan'}"
            ]
          },
          "execution_count": 18,
          "metadata": {},
          "output_type": "execute_result"
        }
      ],
      "source": [
        "menu('frontenac', dessert='flan', entree='fish')"
      ]
    },
    {
      "cell_type": "code",
      "execution_count": 19,
      "metadata": {
        "id": "mbWIFRZuC56V"
      },
      "outputs": [],
      "source": [
        "def menu(wine, entree, dessert='pudding'):\n",
        "    return {'wine': wine, 'entree': entree, 'dessert': dessert}"
      ]
    },
    {
      "cell_type": "code",
      "execution_count": 20,
      "metadata": {
        "colab": {
          "base_uri": "https://localhost:8080/"
        },
        "id": "6X8fWD5xC56W",
        "outputId": "11fa429a-2540-4160-99c9-a683d9999c49"
      },
      "outputs": [
        {
          "data": {
            "text/plain": [
              "{'wine': 'chardonnay', 'entree': 'chicken', 'dessert': 'pudding'}"
            ]
          },
          "execution_count": 20,
          "metadata": {},
          "output_type": "execute_result"
        }
      ],
      "source": [
        "menu('chardonnay', 'chicken')"
      ]
    },
    {
      "cell_type": "code",
      "execution_count": 21,
      "metadata": {
        "colab": {
          "base_uri": "https://localhost:8080/"
        },
        "id": "mVv2CCzPC56W",
        "outputId": "9b3c1fbb-b994-4b4b-c389-49b444affd98"
      },
      "outputs": [
        {
          "data": {
            "text/plain": [
              "{'wine': 'dunkelfelder', 'entree': 'duck', 'dessert': 'doughnut'}"
            ]
          },
          "execution_count": 21,
          "metadata": {},
          "output_type": "execute_result"
        }
      ],
      "source": [
        "# dessert 값을 입력한 경우\n",
        "menu('dunkelfelder', 'duck', 'doughnut')"
      ]
    },
    {
      "cell_type": "code",
      "execution_count": 26,
      "metadata": {
        "colab": {
          "base_uri": "https://localhost:8080/"
        },
        "id": "UP0CT12yC56W",
        "outputId": "7ffa85c9-d24c-402a-c3ca-7e236ed5b507"
      },
      "outputs": [
        {
          "name": "stdout",
          "output_type": "stream",
          "text": [
            "{'price': 100, 'wine': 'chardonnay', 'entree': 'chicken', 'dessert': 'pudding'}\n",
            "{'price': 100, 'wine': 'chardonnay', 'entree': 'chicken', 'dessert': 'pudding'}\n",
            "{'price': 120, 'wine': 'chardonnay', 'entree': 'beef', 'dessert': 'pudding'}\n",
            "{'price': 110, 'wine': 'chardonnay', 'entree': 'chicken', 'dessert': 'bagel'}\n",
            "{'price': 'eighty', 'wine': 'saint-pierre', 'entree': 'fish', 'dessert': 'pudding'}\n",
            "{'price': 'hundred', 'wine': 'saint-pierre', 'entree': 'chicken', 'dessert': 'pudding'}\n"
          ]
        }
      ],
      "source": [
        "def menu(price, wine='chardonnay', entree='chicken', dessert='pudding'):\n",
        "    return {'price': price, 'wine': wine, 'entree': entree, 'dessert': dessert}\n",
        "\n",
        "menu(100) # 1 위치 인자\n",
        "print(menu(100))\n",
        "menu(price=100) # 1 키워드 인자\n",
        "print(menu(price=100))\n",
        "menu(price=120, entree='beef') # 2 키워드 인자\n",
        "print(menu(price=120, entree='beef'))\n",
        "menu(dessert='bagel', price=110) # 2 키워드 인자\n",
        "print(menu(dessert='bagel', price=110))\n",
        "menu('eighty','saint-pierre', 'fish') # 3 위치 인자\n",
        "print(menu('eighty','saint-pierre', 'fish'))\n",
        "menu('hundred', wine='saint-pierre') # 1 위치 인자, 1 키워드 인자\n",
        "print(menu('hundred', wine='saint-pierre'))"
      ]
    },
    {
      "cell_type": "code",
      "execution_count": 24,
      "metadata": {
        "colab": {
          "base_uri": "https://localhost:8080/",
          "height": 145
        },
        "id": "ZfgLRN32C56W",
        "outputId": "d3624cdb-6ed8-4672-a7a8-e571e1db3e1d"
      },
      "outputs": [
        {
          "ename": "SyntaxError",
          "evalue": "ignored",
          "output_type": "error",
          "traceback": [
            "\u001b[0;36m  File \u001b[0;32m\"<ipython-input-24-1ad95057c288>\"\u001b[0;36m, line \u001b[0;32m3\u001b[0m\n\u001b[0;31m    menu(price=100, 'saint-pierre') # 키워드 인자 할당 후, 위치 인자\u001b[0m\n\u001b[0m                                  ^\u001b[0m\n\u001b[0;31mSyntaxError\u001b[0m\u001b[0;31m:\u001b[0m positional argument follows keyword argument\n"
          ]
        }
      ],
      "source": [
        "# Price  호출 불가능 소스\n",
        "menu() # price에 인자가 할당이 안됨\n",
        "menu(price=100, 'saint-pierre') # 키워드 인자 할당 후, 위치 인자\n",
        "menu(100, price=120) # 같은 변수에 두 번 할당\n",
        "menu(main='cream pasta') # 정의되지 않은 매개변수"
      ]
    },
    {
      "cell_type": "code",
      "execution_count": 25,
      "metadata": {
        "colab": {
          "base_uri": "https://localhost:8080/"
        },
        "id": "gwedEa0MC56W",
        "outputId": "b8d0485b-af90-4b7a-ea4b-a92a90273cdf"
      },
      "outputs": [
        {
          "name": "stdout",
          "output_type": "stream",
          "text": [
            "Help on function echo in module __main__:\n",
            "\n",
            "echo(anything)\n",
            "    echo returns its input argument\n",
            "\n",
            "Hello!\n",
            "Help on function print_if_true in module __main__:\n",
            "\n",
            "print_if_true(thing, check)\n",
            "    Prints the first argument if a second argument is true.\n",
            "    The operation is:\n",
            "    1. Check whether the *second* argument is true.\n",
            "    2. If it is, print the *first* argument.\n",
            "\n",
            "Hi!\n"
          ]
        }
      ],
      "source": [
        "def echo(anything):\n",
        "    'echo returns its input argument'\n",
        "    return anything\n",
        "\n",
        "help(echo)\n",
        "print(echo('Hello!'))\n",
        "\n",
        "def print_if_true(thing, check):\n",
        "    \"\"\"\n",
        "    Prints the first argument if a second argument is true.\n",
        "    The operation is:\n",
        "    1. Check whether the *second* argument is true.\n",
        "    2. If it is, print the *first* argument.\n",
        "    \"\"\"\n",
        "    if check:\n",
        "        print(thing)\n",
        "\n",
        "help(print_if_true)\n",
        "print_if_true('Hi!', True)"
      ]
    }
  ],
  "metadata": {
    "colab": {
      "include_colab_link": true,
      "provenance": []
    },
    "kernelspec": {
      "display_name": "Python 3",
      "language": "python",
      "name": "python3"
    },
    "language_info": {
      "codemirror_mode": {
        "name": "ipython",
        "version": 3
      },
      "file_extension": ".py",
      "mimetype": "text/x-python",
      "name": "python",
      "nbconvert_exporter": "python",
      "pygments_lexer": "ipython3",
      "version": "3.9.6"
    }
  },
  "nbformat": 4,
  "nbformat_minor": 0
}
