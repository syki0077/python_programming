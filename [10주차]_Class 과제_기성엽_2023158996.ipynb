{
  "cells": [
    {
      "cell_type": "markdown",
      "metadata": {
        "id": "H2S39EJ_yeGD"
      },
      "source": [
        "# 2023158996 기성엽 과제"
      ]
    },
    {
      "cell_type": "code",
      "execution_count": 2,
      "metadata": {
        "colab": {
          "base_uri": "https://localhost:8080/"
        },
        "id": "eOEN37wLyeGF",
        "outputId": "84977271-55e1-4073-e2a8-66f3eeb7ef10"
      },
      "outputs": [
        {
          "name": "stdout",
          "output_type": "stream",
          "text": [
            "4\n",
            "9\n"
          ]
        }
      ],
      "source": [
        "result = 0\n",
        "def adder(num):\n",
        "    global result\n",
        "    result += num\n",
        "    return result\n",
        "\n",
        "print(adder(4))\n",
        "print(adder(5))"
      ]
    },
    {
      "cell_type": "code",
      "execution_count": 3,
      "metadata": {
        "colab": {
          "base_uri": "https://localhost:8080/"
        },
        "id": "GG9Pbe5oyeGH",
        "outputId": "bd6b2168-3aee-4662-b117-afe36a5df1c5"
      },
      "outputs": [
        {
          "name": "stdout",
          "output_type": "stream",
          "text": [
            "3\n",
            "7\n",
            "3\n",
            "10\n"
          ]
        }
      ],
      "source": [
        "result1 = 0\n",
        "result2 = 0\n",
        "\n",
        "def adder1(num):\n",
        "    global result1\n",
        "    result1 += num\n",
        "    return result1\n",
        "\n",
        "def adder2(num):\n",
        "    global result2\n",
        "    result2 += num\n",
        "    return result2\n",
        "\n",
        "print(adder1(3))\n",
        "print(adder1(4))\n",
        "print(adder2(3))\n",
        "print(adder2(7))\n"
      ]
    },
    {
      "cell_type": "code",
      "execution_count": null,
      "metadata": {
        "id": "wZxVhusLyeGH",
        "outputId": "07fc613c-7449-4f36-9354-d7a9e0d86528"
      },
      "outputs": [
        {
          "ename": "TypeError",
          "evalue": "__init__() missing 1 required positional argument: 'name'",
          "output_type": "error",
          "traceback": [
            "\u001b[0;31m---------------------------------------------------------------------------\u001b[0m",
            "\u001b[0;31mTypeError\u001b[0m                                 Traceback (most recent call last)",
            "\u001b[1;32m/Users/eden/dev/hy_python/unit-10/Week_10_assignment.ipynb 셀 4\u001b[0m line \u001b[0;36m1\n\u001b[1;32m      <a href='vscode-notebook-cell:/Users/eden/dev/hy_python/unit-10/Week_10_assignment.ipynb#W3sZmlsZQ%3D%3D?line=6'>7</a>\u001b[0m         result \u001b[39m=\u001b[39m a \u001b[39m+\u001b[39m b\n\u001b[1;32m      <a href='vscode-notebook-cell:/Users/eden/dev/hy_python/unit-10/Week_10_assignment.ipynb#W3sZmlsZQ%3D%3D?line=7'>8</a>\u001b[0m         \u001b[39mprint\u001b[39m(\u001b[39m\"\u001b[39m\u001b[39m%s\u001b[39;00m\u001b[39m님, \u001b[39m\u001b[39m%s\u001b[39;00m\u001b[39m + \u001b[39m\u001b[39m%s\u001b[39;00m\u001b[39m = \u001b[39m\u001b[39m%s\u001b[39;00m\u001b[39m입니다.\u001b[39m\u001b[39m\"\u001b[39m \u001b[39m%\u001b[39m (\u001b[39mself\u001b[39m\u001b[39m.\u001b[39mname,a, b, result))\n\u001b[0;32m---> <a href='vscode-notebook-cell:/Users/eden/dev/hy_python/unit-10/Week_10_assignment.ipynb#W3sZmlsZQ%3D%3D?line=9'>10</a>\u001b[0m an \u001b[39m=\u001b[39m Service()\n\u001b[1;32m     <a href='vscode-notebook-cell:/Users/eden/dev/hy_python/unit-10/Week_10_assignment.ipynb#W3sZmlsZQ%3D%3D?line=10'>11</a>\u001b[0m \u001b[39mprint\u001b[39m(an\u001b[39m.\u001b[39msecret)\n",
            "\u001b[0;31mTypeError\u001b[0m: __init__() missing 1 required positional argument: 'name'"
          ]
        }
      ],
      "source": [
        "class Service:\n",
        "    secret = \"지구는 4006년에 멸망한다.\"\n",
        "    def setname(self, name):\n",
        "        self.name = name\n",
        "\n",
        "    def sum(self, a, b):\n",
        "        result = a + b\n",
        "        print(\"%s님, %s + %s = %s입니다.\" % (self.name,a, b, result))\n",
        "\n",
        "an = Service()\n",
        "print(an.secret)"
      ]
    },
    {
      "cell_type": "code",
      "execution_count": null,
      "metadata": {
        "id": "ui9VY68QyeGI",
        "outputId": "90aa17a6-23a1-4243-9d01-602f3c1ec4e3"
      },
      "outputs": [
        {
          "name": "stdout",
          "output_type": "stream",
          "text": [
            "지구는 4006년에 멸망하지 않는다.\n"
          ]
        }
      ],
      "source": [
        "Service.secret\n",
        "\n",
        "Service.secret = \"지구는 4006년에 멸망하지 않는다.\"\n",
        "\n",
        "print(an.secret)\n"
      ]
    },
    {
      "cell_type": "code",
      "execution_count": null,
      "metadata": {
        "id": "dduQRFhByeGI",
        "outputId": "08c12bc2-4b77-4c48-cc9f-9f6a49d2a081"
      },
      "outputs": [
        {
          "name": "stdout",
          "output_type": "stream",
          "text": [
            "홍길동님, 1 + 1 = 2입니다.\n"
          ]
        }
      ],
      "source": [
        "an.sum(1, 1)"
      ]
    },
    {
      "cell_type": "code",
      "execution_count": null,
      "metadata": {
        "id": "d7PN-aMbyeGI",
        "outputId": "2322fb5e-1907-4a97-c851-318de249e4f6"
      },
      "outputs": [
        {
          "name": "stdout",
          "output_type": "stream",
          "text": [
            "홍길동님, 1 + 1 = 2입니다.\n"
          ]
        }
      ],
      "source": [
        "an.setname(\"홍길동\")\n",
        "an.sum(1, 1)"
      ]
    },
    {
      "cell_type": "code",
      "execution_count": null,
      "metadata": {
        "id": "QZFRz82pyeGI",
        "outputId": "e3a622cf-b61b-4d2b-8a9a-6e9ad9ac0a5c"
      },
      "outputs": [
        {
          "name": "stdout",
          "output_type": "stream",
          "text": [
            "김철수\n",
            "박영희\n",
            "지구는 4006년에 멸망한다.\n",
            "비밀은 없다.\n"
          ]
        },
        {
          "data": {
            "text/plain": [
              "'지구는 4006년에 멸망한다.'"
            ]
          },
          "execution_count": 16,
          "metadata": {},
          "output_type": "execute_result"
        }
      ],
      "source": [
        "kim = Service()\n",
        "park = Service()\n",
        "\n",
        "kim.setname(\"김철수\")\n",
        "park.setname(\"박영희\")\n",
        "\n",
        "print(kim.name)\n",
        "print(park.name)\n",
        "\n",
        "kim.secret = \"비밀은 없다.\"\n",
        "print(park.secret)\n",
        "\n",
        "print(kim.secret)\n",
        "\n",
        "Service.secret"
      ]
    },
    {
      "cell_type": "code",
      "execution_count": null,
      "metadata": {
        "id": "Q1V46SwHyeGI",
        "outputId": "840e62fb-ae97-4c82-daf6-7a011cf5b8dd"
      },
      "outputs": [
        {
          "ename": "AttributeError",
          "evalue": "'Service' object has no attribute 'name'",
          "output_type": "error",
          "traceback": [
            "\u001b[0;31m---------------------------------------------------------------------------\u001b[0m",
            "\u001b[0;31mAttributeError\u001b[0m                            Traceback (most recent call last)",
            "\u001b[1;32m/Users/eden/dev/hy_python/unit-10/Week_10_assignment.ipynb 셀 9\u001b[0m line \u001b[0;36m2\n\u001b[1;32m      <a href='vscode-notebook-cell:/Users/eden/dev/hy_python/unit-10/Week_10_assignment.ipynb#X41sZmlsZQ%3D%3D?line=0'>1</a>\u001b[0m lee \u001b[39m=\u001b[39m Service()\n\u001b[0;32m----> <a href='vscode-notebook-cell:/Users/eden/dev/hy_python/unit-10/Week_10_assignment.ipynb#X41sZmlsZQ%3D%3D?line=1'>2</a>\u001b[0m lee\u001b[39m.\u001b[39;49msum(\u001b[39m1\u001b[39;49m, \u001b[39m1\u001b[39;49m)\n",
            "\u001b[1;32m/Users/eden/dev/hy_python/unit-10/Week_10_assignment.ipynb 셀 9\u001b[0m line \u001b[0;36m8\n\u001b[1;32m      <a href='vscode-notebook-cell:/Users/eden/dev/hy_python/unit-10/Week_10_assignment.ipynb#X41sZmlsZQ%3D%3D?line=5'>6</a>\u001b[0m \u001b[39mdef\u001b[39;00m \u001b[39msum\u001b[39m(\u001b[39mself\u001b[39m, a, b):\n\u001b[1;32m      <a href='vscode-notebook-cell:/Users/eden/dev/hy_python/unit-10/Week_10_assignment.ipynb#X41sZmlsZQ%3D%3D?line=6'>7</a>\u001b[0m     result \u001b[39m=\u001b[39m a \u001b[39m+\u001b[39m b\n\u001b[0;32m----> <a href='vscode-notebook-cell:/Users/eden/dev/hy_python/unit-10/Week_10_assignment.ipynb#X41sZmlsZQ%3D%3D?line=7'>8</a>\u001b[0m     \u001b[39mprint\u001b[39m(\u001b[39m\"\u001b[39m\u001b[39m%s\u001b[39;00m\u001b[39m님, \u001b[39m\u001b[39m%s\u001b[39;00m\u001b[39m + \u001b[39m\u001b[39m%s\u001b[39;00m\u001b[39m = \u001b[39m\u001b[39m%s\u001b[39;00m\u001b[39m입니다.\u001b[39m\u001b[39m\"\u001b[39m \u001b[39m%\u001b[39m (\u001b[39mself\u001b[39;49m\u001b[39m.\u001b[39;49mname,a, b, result))\n",
            "\u001b[0;31mAttributeError\u001b[0m: 'Service' object has no attribute 'name'"
          ]
        }
      ],
      "source": [
        "lee = Service()\n",
        "lee.sum(1, 1)\n"
      ]
    },
    {
      "cell_type": "code",
      "execution_count": null,
      "metadata": {
        "id": "ZwnNGfa8yeGJ",
        "outputId": "44fca142-a32e-436b-fa97-e11876eaa7cf"
      },
      "outputs": [
        {
          "name": "stdout",
          "output_type": "stream",
          "text": [
            "박달도사님, 1 + 1 = 2입니다.\n"
          ]
        }
      ],
      "source": [
        "class Service:\n",
        "    secret = \"지구는 4006년에 멸망한다.\"\n",
        "    def __init__(self, name):\n",
        "        self.name = name\n",
        "\n",
        "    def sum(self, a, b):\n",
        "        result = a + b\n",
        "        print(\"%s님, %s + %s = %s입니다.\" % (self.name,a, b, result))\n",
        "\n",
        "\n",
        "an = Service(\"박달도사\")\n",
        "an.sum(1, 1)\n"
      ]
    },
    {
      "cell_type": "code",
      "execution_count": null,
      "metadata": {
        "id": "NxfJVucIyeGJ",
        "outputId": "fb21e2cc-3a99-41de-ad03-9cb07dbba041"
      },
      "outputs": [
        {
          "data": {
            "text/plain": [
              "__main__.FourCal"
            ]
          },
          "execution_count": 20,
          "metadata": {},
          "output_type": "execute_result"
        }
      ],
      "source": [
        "class FourCal:\n",
        "    pass\n",
        "\n",
        "a= FourCal()\n",
        "type(a)"
      ]
    },
    {
      "cell_type": "code",
      "execution_count": null,
      "metadata": {
        "id": "psYkpzv0yeGJ",
        "outputId": "cc0557ad-a44b-490a-8301-fcf82997534d"
      },
      "outputs": [
        {
          "name": "stdout",
          "output_type": "stream",
          "text": [
            "4\n",
            "2\n"
          ]
        }
      ],
      "source": [
        "class FourCal:\n",
        "    def setdata(self, first, second):\n",
        "        self.first = first\n",
        "        self.second = second\n",
        "    def sum(self):\n",
        "        result = self.first + self.second\n",
        "        return result\n",
        "\n",
        "a= FourCal()\n",
        "a.setdata(4, 2)\n",
        "\n",
        "print(a.first)\n",
        "print(a.second)"
      ]
    },
    {
      "cell_type": "code",
      "execution_count": null,
      "metadata": {
        "id": "mitvM2OnyeGJ",
        "outputId": "59dc790a-0797-4267-c2e7-9b0e3ab3bab5"
      },
      "outputs": [
        {
          "name": "stdout",
          "output_type": "stream",
          "text": [
            "6\n"
          ]
        }
      ],
      "source": [
        "a = FourCal()\n",
        "a.setdata(4, 2)\n",
        "print(a.sum())"
      ]
    },
    {
      "cell_type": "code",
      "execution_count": null,
      "metadata": {
        "id": "YmTfwD-6yeGJ",
        "outputId": "5615db1d-8e64-4594-d307-07a254ebee35"
      },
      "outputs": [
        {
          "name": "stdout",
          "output_type": "stream",
          "text": [
            "6\n",
            "8\n",
            "2\n",
            "2.0\n",
            "-4\n"
          ]
        }
      ],
      "source": [
        "#사칙연산 클래스 만들기\n",
        "class FourCal:\n",
        "    def setdata(self, first, second):\n",
        "        self.first = first\n",
        "        self.second = second\n",
        "    def sum(self):\n",
        "        result = self.first + self.second\n",
        "        return result\n",
        "    def sub(self):\n",
        "        result = self.first - self.second\n",
        "        return result\n",
        "    def mul(self):\n",
        "        result = self.first * self.second\n",
        "        return result\n",
        "    def div(self):\n",
        "        result = self.first / self.second\n",
        "        return result\n",
        "\n",
        "a = FourCal()\n",
        "b = FourCal()\n",
        "\n",
        "a.setdata(4, 2)\n",
        "b.setdata(3, 7)\n",
        "\n",
        "print(a.sum())\n",
        "print(a.mul())\n",
        "print(a.sub())\n",
        "print(a.div())\n",
        "print(b.sub())\n"
      ]
    },
    {
      "cell_type": "code",
      "execution_count": null,
      "metadata": {
        "id": "TcMNoaiEyeGJ",
        "outputId": "04e6bb52-2cff-4520-b268-4ada0b7df36c"
      },
      "outputs": [
        {
          "name": "stdout",
          "output_type": "stream",
          "text": [
            "Player1: [1, 1, 6]\n",
            "Player2: [3, 3, 2]\n",
            "Draw\n"
          ]
        }
      ],
      "source": [
        "import random\n",
        "\n",
        "player1_dice = []\n",
        "player2_dice = []\n",
        "\n",
        "for i in range(3):\n",
        "    player1_dice.append(random.randint(1, 6))\n",
        "    player2_dice.append(random.randint(1, 6))\n",
        "\n",
        "print(\"Player1:\", str(player1_dice))\n",
        "print(\"Player2:\", str(player2_dice))\n",
        "\n",
        "if sum(player1_dice) == sum(player2_dice):\n",
        "    print(\"Draw\")\n",
        "elif sum(player1_dice) > sum(player2_dice):\n",
        "    print(\"Player1 Win!\")\n",
        "else:\n",
        "    print(\"Player2 Win!\")\n"
      ]
    },
    {
      "cell_type": "code",
      "execution_count": null,
      "metadata": {
        "id": "CefvJHHHyeGJ",
        "outputId": "fc23f979-bdd2-4a91-fd01-05e48ff715ec"
      },
      "outputs": [
        {
          "name": "stdout",
          "output_type": "stream",
          "text": [
            "Player 1 rolled [2, 6, 2] sum: 10\n",
            "Player 2 rolled [3, 5, 2] sum: 10\n",
            "Draw\n"
          ]
        }
      ],
      "source": [
        "from random import randint\n",
        "\n",
        "class Player:\n",
        "    def __init__(self, name):\n",
        "        self.name = name\n",
        "        self.dice = []\n",
        "\n",
        "    def roll_dice(self):\n",
        "        self.dice = []\n",
        "        for i in range(3):\n",
        "            self.dice.append(randint(1, 6))\n",
        "\n",
        "    def get_dice(self):\n",
        "        return self.dice\n",
        "\n",
        "    def sum_dice(self):\n",
        "        return sum(self.dice)\n",
        "\n",
        "\n",
        "player1 = Player(\"Player1\")\n",
        "player2 = Player(\"Player2\")\n",
        "\n",
        "player1.roll_dice()\n",
        "player2.roll_dice()\n",
        "\n",
        "print(\"Player 1 rolled \" + str(player1.get_dice()) + \" sum: \" + str(player1.sum_dice()))\n",
        "print(\"Player 2 rolled \" + str(player2.get_dice()) + \" sum: \" + str(player2.sum_dice()))\n",
        "\n",
        "if player1.sum_dice() == player2.sum_dice():\n",
        "    print(\"Draw\")\n",
        "elif player1.sum_dice() > player2.sum_dice():\n",
        "    print(\"Player1 Win!\")\n",
        "else:\n",
        "    print(\"Player2 Win!\")\n",
        "\n"
      ]
    }
  ],
  "metadata": {
    "colab": {
      "include_colab_link": true,
      "provenance": []
    },
    "kernelspec": {
      "display_name": "Python 3",
      "language": "python",
      "name": "python3"
    },
    "language_info": {
      "codemirror_mode": {
        "name": "ipython",
        "version": 3
      },
      "file_extension": ".py",
      "mimetype": "text/x-python",
      "name": "python",
      "nbconvert_exporter": "python",
      "pygments_lexer": "ipython3",
      "version": "3.9.6"
    }
  },
  "nbformat": 4,
  "nbformat_minor": 0
}
