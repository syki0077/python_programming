{
  "cells": [
    {
      "cell_type": "markdown",
      "metadata": {
        "id": "5Scv7FWh7L59"
      },
      "source": [
        "# 2023158996 기성엽 과제"
      ]
    },
    {
      "cell_type": "code",
      "execution_count": null,
      "metadata": {
        "id": "RUif_VrG7L6A",
        "outputId": "1b7d528b-f2b1-4874-bb0b-bc49183eda81"
      },
      "outputs": [
        {
          "name": "stdout",
          "output_type": "stream",
          "text": [
            "menu\n"
          ]
        },
        {
          "data": {
            "text/plain": [
              "xml.etree.ElementTree.Element"
            ]
          },
          "execution_count": 2,
          "metadata": {},
          "output_type": "execute_result"
        }
      ],
      "source": [
        "import xml.etree.ElementTree as et\n",
        "\n",
        "tree = et.parse('./menu.xml')\n",
        "root = tree.getroot()\n",
        "\n",
        "print(root.tag)\n",
        "type(root)"
      ]
    },
    {
      "cell_type": "code",
      "execution_count": null,
      "metadata": {
        "id": "vIuAdoLT7L6B",
        "outputId": "7bb6f9a5-19d0-470f-fb1b-ea49b4751805"
      },
      "outputs": [
        {
          "name": "stdout",
          "output_type": "stream",
          "text": [
            "tag: breakfast attribute: {'hours': '7-11'}\n",
            "\ttag: item attribute: {'price': '$6.00'}\n",
            "\ttag: item attribute: {'price': '$4.00'}\n",
            "tag: lunch attribute: {'hours': '11-3'}\n",
            "\ttag: item attribute: {'price': '$5.00'}\n",
            "tag: dinner attribute: {'hours': '3-10'}\n",
            "\ttag: item attribute: {'price': '8.00'}\n"
          ]
        }
      ],
      "source": [
        "for child in root:\n",
        "    print('tag:',child.tag, 'attribute:',child.attrib)\n",
        "    for grandchild in child:\n",
        "        print('\\ttag:',grandchild.tag, 'attribute:',grandchild.attrib)"
      ]
    },
    {
      "cell_type": "code",
      "execution_count": null,
      "metadata": {
        "id": "g6tIej9W7L6C",
        "outputId": "d7086e6f-80c1-4d07-e6af-1098efd08eb2"
      },
      "outputs": [
        {
          "name": "stdout",
          "output_type": "stream",
          "text": [
            "3\n",
            "2\n"
          ]
        },
        {
          "data": {
            "text/plain": [
              "xml.etree.ElementTree.Element"
            ]
          },
          "execution_count": 7,
          "metadata": {},
          "output_type": "execute_result"
        }
      ],
      "source": [
        "print(len(root))\n",
        "print(len(root[0]))\n",
        "type(root[0])"
      ]
    },
    {
      "cell_type": "code",
      "execution_count": null,
      "metadata": {
        "id": "AynTgEXK7L6C",
        "outputId": "dc8ed4f9-ae79-4641-c3f0-666137758a06"
      },
      "outputs": [
        {
          "name": "stdout",
          "output_type": "stream",
          "text": [
            "<Element 'breakfast' at 0x107cfc360>\n",
            "7-11\n",
            "['hours']\n",
            "[('hours', '7-11')]\n"
          ]
        }
      ],
      "source": [
        "print(root[0])\n",
        "print(root[0].get(\"hours\"))\n",
        "print(root[0].keys())\n",
        "print(root[0].items())"
      ]
    },
    {
      "cell_type": "code",
      "execution_count": null,
      "metadata": {
        "id": "Ky4WdmZc7L6C",
        "outputId": "18892ed7-5f7e-48b0-9ebc-c7584d308828"
      },
      "outputs": [
        {
          "name": "stdout",
          "output_type": "stream",
          "text": [
            "<Element 'lunch' at 0x107cfc4f0>\n",
            "11-3\n",
            "['hours']\n",
            "[('hours', '11-3')]\n"
          ]
        }
      ],
      "source": [
        "lunch = root.find(\"lunch\")\n",
        "print(lunch)\n",
        "print(lunch.get(\"hours\"))\n",
        "print(lunch.keys())\n",
        "print(lunch.items())"
      ]
    },
    {
      "cell_type": "code",
      "execution_count": null,
      "metadata": {
        "id": "k-y8w9P-7L6C",
        "outputId": "4057aed2-d1ed-4866-a8ca-040079176d5b"
      },
      "outputs": [
        {
          "name": "stdout",
          "output_type": "stream",
          "text": [
            "[<Element 'item' at 0x107cfc400>, <Element 'item' at 0x107cfc4a0>]\n",
            "$6.00\n",
            "breakfast burritos\n",
            "$4.00\n",
            "pancakes\n"
          ]
        }
      ],
      "source": [
        "print(root[0].findall(\"item\"))\n",
        "\n",
        "for item in root[0].findall(\"item\"):\n",
        "    print(item.get(\"price\"))\n",
        "    print(item.text)"
      ]
    },
    {
      "cell_type": "code",
      "execution_count": null,
      "metadata": {
        "id": "UoS0u2nW7L6C",
        "outputId": "36990380-6ee7-4beb-f950-4fac22700ba3"
      },
      "outputs": [
        {
          "data": {
            "text/plain": [
              "{'name': '홍길동', 'birth': '0525', 'age': 30}"
            ]
          },
          "execution_count": 15,
          "metadata": {},
          "output_type": "execute_result"
        }
      ],
      "source": [
        "import json\n",
        "\n",
        "j1 = {\"name\":\"홍길동\", \"birth\":\"0525\", \"age\":30}\n",
        "j1"
      ]
    },
    {
      "cell_type": "code",
      "execution_count": null,
      "metadata": {
        "id": "T4h8n6In7L6C",
        "outputId": "e73e66fd-ed4c-4e2b-be61-e9da3d594b8b"
      },
      "outputs": [
        {
          "data": {
            "text/plain": [
              "'{\"name\": \"\\\\ud64d\\\\uae38\\\\ub3d9\", \"birth\": \"0525\", \"age\": 30}'"
            ]
          },
          "execution_count": 16,
          "metadata": {},
          "output_type": "execute_result"
        }
      ],
      "source": [
        "json.dumps(j1)"
      ]
    },
    {
      "cell_type": "code",
      "execution_count": null,
      "metadata": {
        "id": "4SFOkdWY7L6D",
        "outputId": "0d4dd867-d537-4007-9b50-1560e511a5c4"
      },
      "outputs": [
        {
          "name": "stdout",
          "output_type": "stream",
          "text": [
            "{\n",
            "  \"name\": \"\\ud64d\\uae38\\ub3d9\",\n",
            "  \"birth\": \"0525\",\n",
            "  \"age\": 30\n",
            "}\n"
          ]
        }
      ],
      "source": [
        "print(json.dumps(j1, indent=2))"
      ]
    },
    {
      "cell_type": "code",
      "execution_count": null,
      "metadata": {
        "id": "A2gHWzP97L6D",
        "outputId": "d82bf842-c458-46f7-fa33-197ac170a6e1"
      },
      "outputs": [
        {
          "data": {
            "text/plain": [
              "'[1, 2, 3]'"
            ]
          },
          "execution_count": 18,
          "metadata": {},
          "output_type": "execute_result"
        }
      ],
      "source": [
        "json.dumps([1,2,3])"
      ]
    },
    {
      "cell_type": "code",
      "execution_count": null,
      "metadata": {
        "id": "1gkmppS37L6D",
        "outputId": "978bb568-7255-4cf5-b624-dde9216ef80a"
      },
      "outputs": [
        {
          "data": {
            "text/plain": [
              "'[4, 5, 6]'"
            ]
          },
          "execution_count": 19,
          "metadata": {},
          "output_type": "execute_result"
        }
      ],
      "source": [
        "json.dumps((4,5,6))"
      ]
    },
    {
      "cell_type": "code",
      "execution_count": null,
      "metadata": {
        "id": "qwZefOBk7L6D",
        "outputId": "3791b7be-9ac5-45a4-d05a-f037bcb5966e"
      },
      "outputs": [
        {
          "data": {
            "text/plain": [
              "{'name': '홍길동', 'birth': '0525', 'age': 30}"
            ]
          },
          "execution_count": 20,
          "metadata": {},
          "output_type": "execute_result"
        }
      ],
      "source": [
        "j1 = {\"name\":\"홍길동\", \"birth\":\"0525\", \"age\":30}\n",
        "d1 = json.dumps(j1)\n",
        "json.loads(d1)"
      ]
    },
    {
      "cell_type": "code",
      "execution_count": null,
      "metadata": {
        "id": "pLrtV3Ty7L6D",
        "outputId": "a8775870-755d-4a3c-bda2-b04dde31821d"
      },
      "outputs": [
        {
          "name": "stdout",
          "output_type": "stream",
          "text": [
            "<class 'dict'>\n",
            "{'name': '홍길동', 'age': 30, 'birth': '0525'}\n"
          ]
        }
      ],
      "source": [
        "with open(\"./myinfo.json\") as f:\n",
        "    data = json.load(f)\n",
        "\n",
        "print(type(data))\n",
        "print(data)"
      ]
    },
    {
      "cell_type": "code",
      "execution_count": null,
      "metadata": {
        "id": "uPi_5RVT7L6E",
        "outputId": "0148a1a7-8a30-4f6c-830f-eaeec2701a3e"
      },
      "outputs": [
        {
          "name": "stdout",
          "output_type": "stream",
          "text": [
            "b'<html>\\n<head>\\n<title>A Useful Page</title>\\n</head>\\n<body>\\n<h1>An Interesting Title</h1>\\n<div>\\nLorem ipsum dolor sit amet, consectetur adipisicing elit, sed do eiusmod tempor incididunt ut labore et dolore magna aliqua. Ut enim ad minim veniam, quis nostrud exercitation ullamco laboris nisi ut aliquip ex ea commodo consequat. Duis aute irure dolor in reprehenderit in voluptate velit esse cillum dolore eu fugiat nulla pariatur. Excepteur sint occaecat cupidatat non proident, sunt in culpa qui officia deserunt mollit anim id est laborum.\\n</div>\\n</body>\\n</html>\\n'\n"
          ]
        }
      ],
      "source": [
        "from urllib.request import urlopen\n",
        "html=   urlopen(\"http://pythonscraping.com/pages/page1.html\")\n",
        "print(html.read())"
      ]
    },
    {
      "cell_type": "code",
      "execution_count": null,
      "metadata": {
        "id": "0e0ecJ8c7L6E",
        "outputId": "f062b977-a922-4497-c2f2-64d37acc8b5f"
      },
      "outputs": [
        {
          "name": "stdout",
          "output_type": "stream",
          "text": [
            "Defaulting to user installation because normal site-packages is not writeable\n",
            "Collecting beautifulsoup4\n",
            "  Downloading beautifulsoup4-4.12.2-py3-none-any.whl (142 kB)\n",
            "\u001b[K     |████████████████████████████████| 142 kB 16.4 MB/s eta 0:00:01\n",
            "\u001b[?25hCollecting soupsieve>1.2\n",
            "  Downloading soupsieve-2.5-py3-none-any.whl (36 kB)\n",
            "Installing collected packages: soupsieve, beautifulsoup4\n",
            "Successfully installed beautifulsoup4-4.12.2 soupsieve-2.5\n",
            "\u001b[33mWARNING: You are using pip version 21.2.4; however, version 23.3.1 is available.\n",
            "You should consider upgrading via the '/Library/Developer/CommandLineTools/usr/bin/python3 -m pip install --upgrade pip' command.\u001b[0m\n"
          ]
        }
      ],
      "source": [
        "!pip3 install beautifulsoup4"
      ]
    },
    {
      "cell_type": "code",
      "execution_count": null,
      "metadata": {
        "id": "Aawleqsu7L6E",
        "outputId": "311a4205-f151-4e32-e487-c2b3439e3c0e"
      },
      "outputs": [
        {
          "name": "stdout",
          "output_type": "stream",
          "text": [
            "<h1>An Interesting Title</h1>\n"
          ]
        }
      ],
      "source": [
        "from bs4 import BeautifulSoup\n",
        "from urllib.request import urlopen\n",
        "\n",
        "html = urlopen(\"http://pythonscraping.com/pages/page1.html\")\n",
        "bs = BeautifulSoup(html.read(), 'html.parser')\n",
        "print(bs.h1)"
      ]
    }
  ],
  "metadata": {
    "colab": {
      "include_colab_link": true,
      "provenance": []
    },
    "kernelspec": {
      "display_name": "Python 3",
      "language": "python",
      "name": "python3"
    },
    "language_info": {
      "codemirror_mode": {
        "name": "ipython",
        "version": 3
      },
      "file_extension": ".py",
      "mimetype": "text/x-python",
      "name": "python",
      "nbconvert_exporter": "python",
      "pygments_lexer": "ipython3",
      "version": "3.9.6"
    }
  },
  "nbformat": 4,
  "nbformat_minor": 0
}
