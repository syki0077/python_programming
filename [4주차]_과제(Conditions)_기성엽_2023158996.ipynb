{
  "nbformat": 4,
  "nbformat_minor": 0,
  "metadata": {
    "colab": {
      "provenance": []
    },
    "kernelspec": {
      "name": "python3",
      "display_name": "Python 3"
    },
    "language_info": {
      "name": "python"
    }
  },
  "cells": [
    {
      "cell_type": "code",
      "source": [
        "# 2023158996 기성엽 과제"
      ],
      "metadata": {
        "id": "BP08qZcfDN3a"
      },
      "execution_count": null,
      "outputs": []
    },
    {
      "cell_type": "markdown",
      "source": [
        "Quiz on Conditions"
      ],
      "metadata": {
        "id": "iPW3MKcBfKpN"
      }
    },
    {
      "cell_type": "markdown",
      "source": [
        "Write an if statement to determine if an album had a rating greater than 8. Test it using the rating for the album “Back in Black” that had a rating of 8.5. If the statement is true print \"This album is Amazing!\""
      ],
      "metadata": {
        "id": "ZxAlYd4IfLg3"
      }
    },
    {
      "cell_type": "code",
      "execution_count": 1,
      "metadata": {
        "colab": {
          "base_uri": "https://localhost:8080/"
        },
        "id": "-Ojy6aieDBpd",
        "outputId": "62cecf83-3b5c-4676-8ea5-5f7c6c639040"
      },
      "outputs": [
        {
          "output_type": "stream",
          "name": "stdout",
          "text": [
            "This album is Amazing\n"
          ]
        }
      ],
      "source": [
        "album_rating = 8.5\n",
        "\n",
        "if album_rating > 8:\n",
        "  print(\"This album is Amazing\")"
      ]
    },
    {
      "cell_type": "markdown",
      "source": [
        "Write an if-else statement that performs the following. If the rating is larger then eight print “this album is amazing”. If the rating is less than or equal to 8 print “this album is ok”."
      ],
      "metadata": {
        "id": "1pzZ4BoSfSGT"
      }
    },
    {
      "cell_type": "code",
      "source": [
        "album_rating = 8\n",
        "\n",
        "if album_rating > 8:\n",
        "  print(\"this album is amazing\")\n",
        "\n",
        "else:\n",
        "  print(\"this album is ok\")"
      ],
      "metadata": {
        "colab": {
          "base_uri": "https://localhost:8080/"
        },
        "id": "8k7dfEeWQfyO",
        "outputId": "e86b64c6-1109-4b0c-8961-671463b93ad4"
      },
      "execution_count": 3,
      "outputs": [
        {
          "output_type": "stream",
          "name": "stdout",
          "text": [
            "this album is ok\n"
          ]
        }
      ]
    },
    {
      "cell_type": "markdown",
      "source": [
        "Write an if statement to determine if an album came out before 1980 or in the years: 1991 or 1993. If the condition is true print out the year the album came out."
      ],
      "metadata": {
        "id": "Bde_sA-QfXzV"
      }
    },
    {
      "cell_type": "code",
      "source": [
        "album_year = 1991\n",
        "\n",
        "if album_year < 1980:\n",
        "  print(\"this album is came out\")\n",
        "elif album_year == 1991 or 1993:\n",
        "  print(\"this album is came out\")"
      ],
      "metadata": {
        "colab": {
          "base_uri": "https://localhost:8080/"
        },
        "id": "NATyXOwDRc0p",
        "outputId": "565e261a-812f-44b0-f306-c7f6bf63b3ad"
      },
      "execution_count": 4,
      "outputs": [
        {
          "output_type": "stream",
          "name": "stdout",
          "text": [
            "this album is came out\n"
          ]
        }
      ]
    }
  ]
}